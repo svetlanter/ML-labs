{
  "cells": [
    {
      "cell_type": "markdown",
      "metadata": {
        "id": "jLJseCER3KLM"
      },
      "source": [
        "# Домашняя работа. Numpy\n",
        "\n",
        "1. Скачайте этот ноутбук к себе.\n",
        "2. Заполните пропущенные ячейки, отвечая на заданные вопросы. Там должен быть код! (если не сказано обратное)\n",
        "3. Сохраните результат в своём гитхаб репозитории.\n",
        "\n",
        "#### Полезная литература\n",
        "\n",
        "- http://www.numpy.org/\n",
        "- https://jakevdp.github.io/PythonDataScienceHandbook/02.00-introduction-to-numpy.html\n",
        "- https://docs.scipy.org/doc/numpy/user/quickstart.html"
      ]
    },
    {
      "cell_type": "markdown",
      "source": [],
      "metadata": {
        "id": "GhYLxZqJ3UKU"
      }
    },
    {
      "cell_type": "code",
      "source": [],
      "metadata": {
        "id": "TPRUHvBZ3nGo"
      },
      "execution_count": null,
      "outputs": []
    },
    {
      "cell_type": "markdown",
      "metadata": {
        "id": "yEatAy0P3KLN"
      },
      "source": [
        "1) Импортировать numpy и написать версию"
      ]
    },
    {
      "cell_type": "code",
      "execution_count": 21,
      "metadata": {
        "colab": {
          "base_uri": "https://localhost:8080/"
        },
        "id": "k4HTW6jK3KLO",
        "outputId": "334ec57a-dd90-44d0-8878-fb604ad40441"
      },
      "outputs": [
        {
          "output_type": "stream",
          "name": "stdout",
          "text": [
            "1.26.4\n"
          ]
        }
      ],
      "source": [
        "import numpy as np\n",
        "print(np.__version__)\n"
      ]
    },
    {
      "cell_type": "markdown",
      "metadata": {
        "id": "EEQ1Ybjl3KLO"
      },
      "source": [
        "2) Создать нулевой вектор размера 10"
      ]
    },
    {
      "cell_type": "code",
      "execution_count": null,
      "metadata": {
        "colab": {
          "base_uri": "https://localhost:8080/"
        },
        "id": "IrP8L5_13KLO",
        "outputId": "d2930e60-342f-4a8c-f088-8f50340c9d60"
      },
      "outputs": [
        {
          "output_type": "stream",
          "name": "stdout",
          "text": [
            "Нулевой вектор размера 10: [0. 0. 0. 0. 0. 0. 0. 0. 0. 0.]\n"
          ]
        }
      ],
      "source": [
        "zero = np.zeros(10)\n",
        "print(zero)"
      ]
    },
    {
      "cell_type": "markdown",
      "metadata": {
        "id": "KQkRWLaW3KLO"
      },
      "source": [
        "3) Создать вектор заполненный 7-ами размера 7"
      ]
    },
    {
      "cell_type": "code",
      "execution_count": 2,
      "metadata": {
        "colab": {
          "base_uri": "https://localhost:8080/"
        },
        "id": "8NWAkEfo3KLP",
        "outputId": "b25a0723-0cfd-437b-d3f7-2278cfe6d648"
      },
      "outputs": [
        {
          "output_type": "stream",
          "name": "stdout",
          "text": [
            " вектор заполненный 7-ами размера 7 [7 7 7 7 7 7 7]\n"
          ]
        }
      ],
      "source": [
        "seven = np.full(7, 7)\n",
        "print(seven)"
      ]
    },
    {
      "cell_type": "markdown",
      "metadata": {
        "id": "1lkAeQtT3KLP"
      },
      "source": [
        "4) Создать вектор заполненный четными числами от 10 до 100"
      ]
    },
    {
      "cell_type": "code",
      "execution_count": 20,
      "metadata": {
        "colab": {
          "base_uri": "https://localhost:8080/"
        },
        "id": "aiuq7pra3KLP",
        "outputId": "dd4dae5c-6861-49b4-8092-b83a2b30b040"
      },
      "outputs": [
        {
          "output_type": "stream",
          "name": "stdout",
          "text": [
            "[ 10  12  14  16  18  20  22  24  26  28  30  32  34  36  38  40  42  44\n",
            "  46  48  50  52  54  56  58  60  62  64  66  68  70  72  74  76  78  80\n",
            "  82  84  86  88  90  92  94  96  98 100]\n"
          ]
        }
      ],
      "source": [
        "vector = np.arange(10, 101, 2)\n",
        "print(vector)"
      ]
    },
    {
      "cell_type": "markdown",
      "metadata": {
        "id": "2INASOjc3KLP"
      },
      "source": [
        "5) Создать массив случайных чисел и развернуть его задом наперёд"
      ]
    },
    {
      "cell_type": "code",
      "execution_count": 54,
      "metadata": {
        "colab": {
          "base_uri": "https://localhost:8080/"
        },
        "id": "yLyfSm023KLP",
        "outputId": "9b46a60e-6dd5-4dbc-d809-9a5717a223ab"
      },
      "outputs": [
        {
          "output_type": "stream",
          "name": "stdout",
          "text": [
            "[ 4  3  8  8  7  5 10  5  5  2]\n",
            "[ 2  5  5 10  5  7  8  8  3  4]\n"
          ]
        }
      ],
      "source": [
        "random_array = np.random.randint(1, 11, size=10)\n",
        "reversed_array = random_array[::-1]\n",
        "print(random_array)\n",
        "print(reversed_array)\n"
      ]
    },
    {
      "cell_type": "markdown",
      "metadata": {
        "id": "khbdldJm3KLP"
      },
      "source": [
        "6) Создать двумерную матрицу размера 3 на 3, заполненную числами от 0 до 9"
      ]
    },
    {
      "cell_type": "code",
      "execution_count": null,
      "metadata": {
        "colab": {
          "base_uri": "https://localhost:8080/"
        },
        "id": "Rimbi92x3KLQ",
        "outputId": "ce5224cc-5355-4a4a-da7a-a29250cdac6c"
      },
      "outputs": [
        {
          "output_type": "stream",
          "name": "stdout",
          "text": [
            "Матрица 3x3, заполненная числами от 0 до 9:\n",
            "[[0 1 2]\n",
            " [3 4 5]\n",
            " [6 7 8]]\n"
          ]
        }
      ],
      "source": [
        "matrix = np.arange(9).reshape(3, 3)\n",
        "print(matrix)"
      ]
    },
    {
      "cell_type": "markdown",
      "metadata": {
        "id": "ZAh_6dzn3KLQ"
      },
      "source": [
        "7) Создать матрицу размера 4 на 4 с единицами на диагонали смещеной на один наверх."
      ]
    },
    {
      "cell_type": "code",
      "execution_count": 4,
      "metadata": {
        "colab": {
          "base_uri": "https://localhost:8080/"
        },
        "id": "4skUFqL53KLQ",
        "outputId": "d10c26b5-725d-4c7d-9af7-f9ee292de442"
      },
      "outputs": [
        {
          "output_type": "stream",
          "name": "stdout",
          "text": [
            "[[0. 1. 0. 0.]\n",
            " [0. 0. 1. 0.]\n",
            " [0. 0. 0. 1.]\n",
            " [0. 0. 0. 0.]]\n"
          ]
        }
      ],
      "source": [
        "matrix = np.eye(4, k=1)\n",
        "print(matrix)"
      ]
    },
    {
      "cell_type": "markdown",
      "metadata": {
        "id": "4-fBoGLe3KLQ"
      },
      "source": [
        "8) Создать матрицу с числами в диапазоне от 1 до 4 по диагонали. В других ячейках матрицы должны быть семерки."
      ]
    },
    {
      "cell_type": "code",
      "execution_count": null,
      "metadata": {
        "colab": {
          "base_uri": "https://localhost:8080/"
        },
        "id": "qYCrWKp63KLQ",
        "outputId": "b3661671-0ab6-4042-a89e-fb4ac4a41be1"
      },
      "outputs": [
        {
          "output_type": "stream",
          "name": "stdout",
          "text": [
            "Матрица с числами от 1 до 4 по диагонали, остальное заполнено семерками:\n",
            "[[1 7 7 7]\n",
            " [7 2 7 7]\n",
            " [7 7 3 7]\n",
            " [7 7 7 4]]\n"
          ]
        }
      ],
      "source": [
        "matrix = np.full((4, 4), 7)\n",
        "np.fill_diagonal(matrix, [1, 2, 3, 4])\n",
        "print(matrix)\n"
      ]
    },
    {
      "cell_type": "markdown",
      "metadata": {
        "id": "sFb1HvKv3KLQ"
      },
      "source": [
        "9) Создать матрицу размера 5 на 5 заполненную числами от 0 до 4 в строках."
      ]
    },
    {
      "cell_type": "code",
      "execution_count": null,
      "metadata": {
        "colab": {
          "base_uri": "https://localhost:8080/"
        },
        "id": "KsJYKJJX3KLQ",
        "outputId": "ceb8cb56-25dd-4ddf-bf0c-f7bee4b27fd8"
      },
      "outputs": [
        {
          "output_type": "stream",
          "name": "stdout",
          "text": [
            "Матрица 5x5, заполненная числами от 0 до 4 по строкам:\n",
            "[[0 1 2 3 4]\n",
            " [0 1 2 3 4]\n",
            " [0 1 2 3 4]\n",
            " [0 1 2 3 4]\n",
            " [0 1 2 3 4]]\n"
          ]
        }
      ],
      "source": [
        "matrix_5x5 = np.tile(np.arange(5), (5, 1))\n",
        "print(matrix_5x5)"
      ]
    },
    {
      "cell_type": "markdown",
      "metadata": {
        "id": "2b8sB-f33KLQ"
      },
      "source": [
        "10) Создать матрицу случайных чисел размера 10 на 10 и отнять среднее по строкам из каждого элемента строки"
      ]
    },
    {
      "cell_type": "code",
      "execution_count": 18,
      "metadata": {
        "colab": {
          "base_uri": "https://localhost:8080/"
        },
        "id": "zDezO92h3KLQ",
        "outputId": "b9c1839e-73fc-46f9-e848-b6bb92c47a38"
      },
      "outputs": [
        {
          "output_type": "stream",
          "name": "stdout",
          "text": [
            "[[ 2.2 -1.8 -3.8  2.2 -0.8  1.2  0.2 -1.8 -1.8  4.2]\n",
            " [ 0.2  0.2  3.2 -3.8 -3.8  5.2 -0.8  3.2 -0.8 -2.8]\n",
            " [ 3.1 -3.9 -3.9  2.1  3.1 -1.9  5.1 -0.9 -3.9  1.1]\n",
            " [ 3.6 -0.4  1.6 -2.4  1.6 -0.4 -5.4  3.6  2.6 -4.4]\n",
            " [ 3.2 -2.8 -3.8  4.2  1.2 -2.8 -1.8  3.2  4.2 -4.8]\n",
            " [-3.9  5.1 -2.9  3.1 -2.9 -2.9  3.1  0.1  3.1 -1.9]\n",
            " [-4.2 -4.2 -3.2  4.8  1.8  2.8  1.8  0.8  0.8 -1.2]\n",
            " [ 2.4 -3.6  2.4  0.4 -2.6 -0.6  0.4 -4.6  3.4  2.4]\n",
            " [-4.6  0.4  3.4 -0.6  4.4 -3.6 -1.6  2.4 -3.6  3.4]\n",
            " [ 0.5  3.5 -4.5  2.5 -2.5  0.5 -0.5  2.5  2.5 -4.5]]\n"
          ]
        }
      ],
      "source": [
        "matrix = np.random.randint(1, 11, size=(10, 10))\n",
        "matrix = matrix - np.mean(matrix, axis=1, keepdims=True)\n",
        "print(matrix)\n"
      ]
    },
    {
      "cell_type": "markdown",
      "metadata": {
        "id": "EYsG8fZS3KLQ"
      },
      "source": [
        "11) Создать матрицу случайных чисел размера 10 на 10 и отнять медиану по столбцам из каждого элемента столбца  "
      ]
    },
    {
      "cell_type": "code",
      "execution_count": 22,
      "metadata": {
        "colab": {
          "base_uri": "https://localhost:8080/"
        },
        "id": "a4DgCcQt3KLQ",
        "outputId": "cec1818b-8e56-44fe-bacf-d09a51ac70cc"
      },
      "outputs": [
        {
          "output_type": "stream",
          "name": "stdout",
          "text": [
            "[[-0.5 -4.5 -1.5 -2.5  3.5  2.  -3.  -3.5 -5.   1. ]\n",
            " [ 2.5 -0.5 -0.5 -3.5 -0.5 -4.   3.  -1.5  1.   0. ]\n",
            " [-5.5 -0.5  2.5 -1.5 -1.5  0.  -2.   1.5  3.   0. ]\n",
            " [ 2.5  0.5  5.5  2.5 -1.5 -3.   0.  -1.5 -4.  -2. ]\n",
            " [ 0.5  3.5  1.5  1.5  4.5  4.   3.   2.5  0.  -1. ]\n",
            " [ 1.5 -0.5  0.5  5.5  0.5 -4.   0.   1.5  0.   3. ]\n",
            " [-6.5  3.5 -3.5 -3.5  7.5  2.  -1.  -1.5  0.   0. ]\n",
            " [ 0.5  2.5 -2.5 -2.5 -0.5 -2.   1.   3.5  2.  -4. ]\n",
            " [-1.5 -0.5 -2.5  5.5  3.5  0.  -1.  -4.5 -4.  -4. ]\n",
            " [-5.5  0.5  0.5  1.5 -0.5  1.   2.   3.5  2.   2. ]]\n"
          ]
        }
      ],
      "source": [
        "matrix= np.random.randint(1, 11, size=(10, 10))\n",
        "matrix_avg = matrix - np.median(matrix, axis=0, keepdims=True)\n",
        "print(matrix_avg)"
      ]
    },
    {
      "cell_type": "markdown",
      "metadata": {
        "id": "OcYYGA7O3KLQ"
      },
      "source": [
        "12) Создать матрицу случайных чисел 5x5. Добавить к ней столбецы максимумов и минимумов по строкам. Получится матрица 5x7.  "
      ]
    },
    {
      "cell_type": "code",
      "execution_count": null,
      "metadata": {
        "colab": {
          "base_uri": "https://localhost:8080/"
        },
        "id": "wKmVdnsr3KLR",
        "outputId": "099f6b17-33b0-475c-8850-f70dd2fcfe2b"
      },
      "outputs": [
        {
          "output_type": "stream",
          "name": "stdout",
          "text": [
            "Матрица 5x5 (числа от 1 до 10) с добавленными столбцами максимумов и минимумов по строкам:\n",
            "[[ 8  4  2  1  2  8  1]\n",
            " [ 5 10  1  8  7 10  1]\n",
            " [10  2  4  3  3 10  2]\n",
            " [ 4  7  4  3  7  7  3]\n",
            " [ 2 10 10  6  5 10  2]]\n"
          ]
        }
      ],
      "source": [
        "matrix_random_5x5 = np.random.randint(1, 11, size=(5, 5))\n",
        "max_columns = matrix_random_5x5.max(axis=1).reshape(-1, 1)\n",
        "min_columns = matrix_random_5x5.min(axis=1).reshape(-1, 1)\n",
        "matrix_minmax = np.hstack((matrix_random_5x5, max_columns, min_columns))\n",
        "print(matrix_minmax)"
      ]
    },
    {
      "cell_type": "markdown",
      "metadata": {
        "id": "pcDlGDZq3KLR"
      },
      "source": [
        "13) Вектор чисел от 1 до 51 преобразовать в вектор нечетных чисел и в вектор четных чисел, поменять их размерности, чтобы получились две матрица. Найти произведение этих матриц. Найти обратную матрицу эётого произведения.  "
      ]
    },
    {
      "cell_type": "code",
      "execution_count": 43,
      "metadata": {
        "colab": {
          "base_uri": "https://localhost:8080/"
        },
        "id": "zfNC-ELr3KLR",
        "outputId": "1627cb02-d7f1-4789-a2bc-dd2318830394"
      },
      "outputs": [
        {
          "output_type": "stream",
          "name": "stdout",
          "text": [
            "[[  78   86   94  102  110  118  126  134  142  150  158  166  174]\n",
            " [ 182  206  230  254  278  302  326  350  374  398  422  446  470]\n",
            " [ 286  326  366  406  446  486  526  566  606  646  686  726  766]\n",
            " [ 390  446  502  558  614  670  726  782  838  894  950 1006 1062]\n",
            " [ 494  566  638  710  782  854  926  998 1070 1142 1214 1286 1358]\n",
            " [ 598  686  774  862  950 1038 1126 1214 1302 1390 1478 1566 1654]\n",
            " [ 702  806  910 1014 1118 1222 1326 1430 1534 1638 1742 1846 1950]\n",
            " [ 806  926 1046 1166 1286 1406 1526 1646 1766 1886 2006 2126 2246]\n",
            " [ 910 1046 1182 1318 1454 1590 1726 1862 1998 2134 2270 2406 2542]\n",
            " [1014 1166 1318 1470 1622 1774 1926 2078 2230 2382 2534 2686 2838]\n",
            " [1118 1286 1454 1622 1790 1958 2126 2294 2462 2630 2798 2966 3134]\n",
            " [1222 1406 1590 1774 1958 2142 2326 2510 2694 2878 3062 3246 3430]\n",
            " [1326 1526 1726 1926 2126 2326 2526 2726 2926 3126 3326 3526 3726]]\n"
          ]
        }
      ],
      "source": [
        "\n",
        "vector = np.arange(0, 52)\n",
        "\n",
        "nechet_vector = vector[vector % 2 != 0].reshape(13, 2)\n",
        "chet_vector = vector[vector % 2 == 0].reshape(2, 13)\n",
        "\n",
        "matrix_product = np.dot(nechet_vector, chet_vector)\n",
        "print(matrix_product)\n",
        "\n",
        "inverse_matrix = np.linalg.inv(matrix_product)\n"
      ]
    },
    {
      "cell_type": "markdown",
      "metadata": {
        "id": "Iyjae-yp3KLR"
      },
      "source": [
        "14) Создать 8x8 матрицу и заполнить её в шахматном порядке нулями и единицами."
      ]
    },
    {
      "cell_type": "code",
      "execution_count": 60,
      "metadata": {
        "colab": {
          "base_uri": "https://localhost:8080/"
        },
        "id": "JxQmYZ_e3KLR",
        "outputId": "bb1696fd-232a-4d26-a2a8-b3e9f44d150b"
      },
      "outputs": [
        {
          "output_type": "stream",
          "name": "stdout",
          "text": [
            "[[0 1 0 1 0 1 0 1]\n",
            " [1 0 1 0 1 0 1 0]\n",
            " [0 1 0 1 0 1 0 1]\n",
            " [1 0 1 0 1 0 1 0]\n",
            " [0 1 0 1 0 1 0 1]\n",
            " [1 0 1 0 1 0 1 0]\n",
            " [0 1 0 1 0 1 0 1]\n",
            " [1 0 1 0 1 0 1 0]]\n"
          ]
        }
      ],
      "source": [
        "matrix = np.full((8,8),0)\n",
        "matrix[1::2, ::2] = 1\n",
        "matrix[::2, 1::2] = 1\n",
        "print(matrix)"
      ]
    }
  ],
  "metadata": {
    "kernelspec": {
      "display_name": "Python 3 (ipykernel)",
      "language": "python",
      "name": "python3"
    },
    "language_info": {
      "codemirror_mode": {
        "name": "ipython",
        "version": 3
      },
      "file_extension": ".py",
      "mimetype": "text/x-python",
      "name": "python",
      "nbconvert_exporter": "python",
      "pygments_lexer": "ipython3",
      "version": "3.12.4"
    },
    "colab": {
      "provenance": []
    }
  },
  "nbformat": 4,
  "nbformat_minor": 0
}
