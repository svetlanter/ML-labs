{
  "cells": [
    {
      "cell_type": "markdown",
      "metadata": {
        "id": "njQcrguya1Nb"
      },
      "source": [
        "# Кластеризация. Домашка\n",
        "\n",
        "## Совсем простая рекомендательная система\n",
        "\n",
        "На основе оценок аниме, которые ставят пользователи систем типа myanimelist.net\n",
        ", можно строить разные кластеры данных:\n",
        "- кластеры похожих людей. Похожие значит, что эти люди ставят похожие рейтинги аниме.\n",
        "- кластеры похожих аниме. Похожие значит что люди оценивают их похоже.\n",
        "- кластеры похожих жанров. Но похожие не в обычном смысле, а в смысле, что люди которые смотрят жанр А любят смотреть жанр Б.\n",
        "\n",
        "и т.д.\n"
      ]
    },
    {
      "cell_type": "code",
      "execution_count": null,
      "metadata": {
        "id": "dR2jz6_Ja1Nd",
        "colab": {
          "base_uri": "https://localhost:8080/",
          "height": 71
        },
        "outputId": "bd45674a-36bd-44c7-a6d4-06fcddd9ea8d"
      },
      "outputs": [
        {
          "output_type": "display_data",
          "data": {
            "text/plain": [
              "<IPython.core.display.HTML object>"
            ],
            "text/html": [
              "\n",
              "     <input type=\"file\" id=\"files-c81687ce-4270-4bac-bc86-b05db26f5e0e\" name=\"files[]\" multiple disabled\n",
              "        style=\"border:none\" />\n",
              "     <output id=\"result-c81687ce-4270-4bac-bc86-b05db26f5e0e\">\n",
              "      Upload widget is only available when the cell has been executed in the\n",
              "      current browser session. Please rerun this cell to enable.\n",
              "      </output>\n",
              "      <script>// Copyright 2017 Google LLC\n",
              "//\n",
              "// Licensed under the Apache License, Version 2.0 (the \"License\");\n",
              "// you may not use this file except in compliance with the License.\n",
              "// You may obtain a copy of the License at\n",
              "//\n",
              "//      http://www.apache.org/licenses/LICENSE-2.0\n",
              "//\n",
              "// Unless required by applicable law or agreed to in writing, software\n",
              "// distributed under the License is distributed on an \"AS IS\" BASIS,\n",
              "// WITHOUT WARRANTIES OR CONDITIONS OF ANY KIND, either express or implied.\n",
              "// See the License for the specific language governing permissions and\n",
              "// limitations under the License.\n",
              "\n",
              "/**\n",
              " * @fileoverview Helpers for google.colab Python module.\n",
              " */\n",
              "(function(scope) {\n",
              "function span(text, styleAttributes = {}) {\n",
              "  const element = document.createElement('span');\n",
              "  element.textContent = text;\n",
              "  for (const key of Object.keys(styleAttributes)) {\n",
              "    element.style[key] = styleAttributes[key];\n",
              "  }\n",
              "  return element;\n",
              "}\n",
              "\n",
              "// Max number of bytes which will be uploaded at a time.\n",
              "const MAX_PAYLOAD_SIZE = 100 * 1024;\n",
              "\n",
              "function _uploadFiles(inputId, outputId) {\n",
              "  const steps = uploadFilesStep(inputId, outputId);\n",
              "  const outputElement = document.getElementById(outputId);\n",
              "  // Cache steps on the outputElement to make it available for the next call\n",
              "  // to uploadFilesContinue from Python.\n",
              "  outputElement.steps = steps;\n",
              "\n",
              "  return _uploadFilesContinue(outputId);\n",
              "}\n",
              "\n",
              "// This is roughly an async generator (not supported in the browser yet),\n",
              "// where there are multiple asynchronous steps and the Python side is going\n",
              "// to poll for completion of each step.\n",
              "// This uses a Promise to block the python side on completion of each step,\n",
              "// then passes the result of the previous step as the input to the next step.\n",
              "function _uploadFilesContinue(outputId) {\n",
              "  const outputElement = document.getElementById(outputId);\n",
              "  const steps = outputElement.steps;\n",
              "\n",
              "  const next = steps.next(outputElement.lastPromiseValue);\n",
              "  return Promise.resolve(next.value.promise).then((value) => {\n",
              "    // Cache the last promise value to make it available to the next\n",
              "    // step of the generator.\n",
              "    outputElement.lastPromiseValue = value;\n",
              "    return next.value.response;\n",
              "  });\n",
              "}\n",
              "\n",
              "/**\n",
              " * Generator function which is called between each async step of the upload\n",
              " * process.\n",
              " * @param {string} inputId Element ID of the input file picker element.\n",
              " * @param {string} outputId Element ID of the output display.\n",
              " * @return {!Iterable<!Object>} Iterable of next steps.\n",
              " */\n",
              "function* uploadFilesStep(inputId, outputId) {\n",
              "  const inputElement = document.getElementById(inputId);\n",
              "  inputElement.disabled = false;\n",
              "\n",
              "  const outputElement = document.getElementById(outputId);\n",
              "  outputElement.innerHTML = '';\n",
              "\n",
              "  const pickedPromise = new Promise((resolve) => {\n",
              "    inputElement.addEventListener('change', (e) => {\n",
              "      resolve(e.target.files);\n",
              "    });\n",
              "  });\n",
              "\n",
              "  const cancel = document.createElement('button');\n",
              "  inputElement.parentElement.appendChild(cancel);\n",
              "  cancel.textContent = 'Cancel upload';\n",
              "  const cancelPromise = new Promise((resolve) => {\n",
              "    cancel.onclick = () => {\n",
              "      resolve(null);\n",
              "    };\n",
              "  });\n",
              "\n",
              "  // Wait for the user to pick the files.\n",
              "  const files = yield {\n",
              "    promise: Promise.race([pickedPromise, cancelPromise]),\n",
              "    response: {\n",
              "      action: 'starting',\n",
              "    }\n",
              "  };\n",
              "\n",
              "  cancel.remove();\n",
              "\n",
              "  // Disable the input element since further picks are not allowed.\n",
              "  inputElement.disabled = true;\n",
              "\n",
              "  if (!files) {\n",
              "    return {\n",
              "      response: {\n",
              "        action: 'complete',\n",
              "      }\n",
              "    };\n",
              "  }\n",
              "\n",
              "  for (const file of files) {\n",
              "    const li = document.createElement('li');\n",
              "    li.append(span(file.name, {fontWeight: 'bold'}));\n",
              "    li.append(span(\n",
              "        `(${file.type || 'n/a'}) - ${file.size} bytes, ` +\n",
              "        `last modified: ${\n",
              "            file.lastModifiedDate ? file.lastModifiedDate.toLocaleDateString() :\n",
              "                                    'n/a'} - `));\n",
              "    const percent = span('0% done');\n",
              "    li.appendChild(percent);\n",
              "\n",
              "    outputElement.appendChild(li);\n",
              "\n",
              "    const fileDataPromise = new Promise((resolve) => {\n",
              "      const reader = new FileReader();\n",
              "      reader.onload = (e) => {\n",
              "        resolve(e.target.result);\n",
              "      };\n",
              "      reader.readAsArrayBuffer(file);\n",
              "    });\n",
              "    // Wait for the data to be ready.\n",
              "    let fileData = yield {\n",
              "      promise: fileDataPromise,\n",
              "      response: {\n",
              "        action: 'continue',\n",
              "      }\n",
              "    };\n",
              "\n",
              "    // Use a chunked sending to avoid message size limits. See b/62115660.\n",
              "    let position = 0;\n",
              "    do {\n",
              "      const length = Math.min(fileData.byteLength - position, MAX_PAYLOAD_SIZE);\n",
              "      const chunk = new Uint8Array(fileData, position, length);\n",
              "      position += length;\n",
              "\n",
              "      const base64 = btoa(String.fromCharCode.apply(null, chunk));\n",
              "      yield {\n",
              "        response: {\n",
              "          action: 'append',\n",
              "          file: file.name,\n",
              "          data: base64,\n",
              "        },\n",
              "      };\n",
              "\n",
              "      let percentDone = fileData.byteLength === 0 ?\n",
              "          100 :\n",
              "          Math.round((position / fileData.byteLength) * 100);\n",
              "      percent.textContent = `${percentDone}% done`;\n",
              "\n",
              "    } while (position < fileData.byteLength);\n",
              "  }\n",
              "\n",
              "  // All done.\n",
              "  yield {\n",
              "    response: {\n",
              "      action: 'complete',\n",
              "    }\n",
              "  };\n",
              "}\n",
              "\n",
              "scope.google = scope.google || {};\n",
              "scope.google.colab = scope.google.colab || {};\n",
              "scope.google.colab._files = {\n",
              "  _uploadFiles,\n",
              "  _uploadFilesContinue,\n",
              "};\n",
              "})(self);\n",
              "</script> "
            ]
          },
          "metadata": {}
        },
        {
          "output_type": "stream",
          "name": "stdout",
          "text": [
            "Saving anime.csv.zip to anime.csv (1).zip\n"
          ]
        }
      ],
      "source": [
        "from sklearn import datasets\n",
        "import pandas as pd\n",
        "import numpy as np\n",
        "from matplotlib import pyplot as plt\n",
        "import seaborn as sns\n",
        "from sklearn.cluster import KMeans\n",
        "from tqdm import tqdm\n",
        "from scipy.special import erfc\n",
        "from itertools import chain\n",
        "from sklearn.preprocessing import MinMaxScaler\n",
        "from sklearn.metrics import silhouette_score\n",
        "# from tqdm import tqdm_notebook as tqdm # Раскоментируйте если прогресс бар будет странно работать\n",
        "\n",
        "%matplotlib inline\n",
        "\n",
        "np.random.seed(seed=42)\n",
        "\n",
        "from google.colab import files\n",
        "uploaded = files.upload()"
      ]
    },
    {
      "cell_type": "markdown",
      "metadata": {
        "id": "4UhBfNdTb2gD"
      },
      "source": [
        "## Анализ отзывов аниме\n",
        "\n",
        "Возьмем датасет с рейтингами аниме: https://www.kaggle.com/CooperUnion/anime-recommendations-database  \n",
        "Кстати, вы можете посмотреть kernels - это jupyter notebooks, в которых другие люди тоже делали что-то с этим датасетом.\n",
        "\n",
        "```\n",
        "Anime.csv\n",
        "\n",
        "anime_id - myanimelist.net's unique id identifying an anime.\n",
        "name - full name of anime.\n",
        "genre - comma separated list of genres for this anime.\n",
        "type - movie, TV, OVA, etc.\n",
        "episodes - how many episodes in this show. (1 if movie).\n",
        "rating - average rating out of 10 for this anime.\n",
        "members - number of community members that are in this anime's \"group\".\n",
        "\n",
        "\n",
        "Rating.csv\n",
        "\n",
        "user_id - non identifiable randomly generated user id.\n",
        "anime_id - the anime that this user has rated.\n",
        "rating - rating out of 10 this user has assigned (-1 if the user watched it but didn't assign a rating).\n",
        "```"
      ]
    },
    {
      "cell_type": "code",
      "execution_count": null,
      "metadata": {
        "id": "vRFEeThr-RBx",
        "tags": [],
        "outputId": "a85482df-2276-460a-a1f5-cf0cb911fe2b",
        "colab": {
          "base_uri": "https://localhost:8080/",
          "height": 255
        }
      },
      "outputs": [
        {
          "output_type": "stream",
          "name": "stdout",
          "text": [
            "(12017, 6)\n"
          ]
        },
        {
          "output_type": "execute_result",
          "data": {
            "text/plain": [
              "                                      name  \\\n",
              "anime_id                                     \n",
              "32281                       Kimi no Na wa.   \n",
              "5114      Fullmetal Alchemist: Brotherhood   \n",
              "28977                             Gintama°   \n",
              "9253                           Steins;Gate   \n",
              "9969                         Gintama&#039;   \n",
              "\n",
              "                                                      genre   type episodes  \\\n",
              "anime_id                                                                      \n",
              "32281                  Drama, Romance, School, Supernatural  Movie        1   \n",
              "5114      Action, Adventure, Drama, Fantasy, Magic, Mili...     TV       64   \n",
              "28977     Action, Comedy, Historical, Parody, Samurai, S...     TV       51   \n",
              "9253                                       Sci-Fi, Thriller     TV       24   \n",
              "9969      Action, Comedy, Historical, Parody, Samurai, S...     TV       51   \n",
              "\n",
              "          rating  members  \n",
              "anime_id                   \n",
              "32281       9.37   200630  \n",
              "5114        9.26   793665  \n",
              "28977       9.25   114262  \n",
              "9253        9.17   673572  \n",
              "9969        9.16   151266  "
            ],
            "text/html": [
              "\n",
              "  <div id=\"df-5bc7fd89-2cd3-44f9-b784-f118ce8a7ab7\" class=\"colab-df-container\">\n",
              "    <div>\n",
              "<style scoped>\n",
              "    .dataframe tbody tr th:only-of-type {\n",
              "        vertical-align: middle;\n",
              "    }\n",
              "\n",
              "    .dataframe tbody tr th {\n",
              "        vertical-align: top;\n",
              "    }\n",
              "\n",
              "    .dataframe thead th {\n",
              "        text-align: right;\n",
              "    }\n",
              "</style>\n",
              "<table border=\"1\" class=\"dataframe\">\n",
              "  <thead>\n",
              "    <tr style=\"text-align: right;\">\n",
              "      <th></th>\n",
              "      <th>name</th>\n",
              "      <th>genre</th>\n",
              "      <th>type</th>\n",
              "      <th>episodes</th>\n",
              "      <th>rating</th>\n",
              "      <th>members</th>\n",
              "    </tr>\n",
              "    <tr>\n",
              "      <th>anime_id</th>\n",
              "      <th></th>\n",
              "      <th></th>\n",
              "      <th></th>\n",
              "      <th></th>\n",
              "      <th></th>\n",
              "      <th></th>\n",
              "    </tr>\n",
              "  </thead>\n",
              "  <tbody>\n",
              "    <tr>\n",
              "      <th>32281</th>\n",
              "      <td>Kimi no Na wa.</td>\n",
              "      <td>Drama, Romance, School, Supernatural</td>\n",
              "      <td>Movie</td>\n",
              "      <td>1</td>\n",
              "      <td>9.37</td>\n",
              "      <td>200630</td>\n",
              "    </tr>\n",
              "    <tr>\n",
              "      <th>5114</th>\n",
              "      <td>Fullmetal Alchemist: Brotherhood</td>\n",
              "      <td>Action, Adventure, Drama, Fantasy, Magic, Mili...</td>\n",
              "      <td>TV</td>\n",
              "      <td>64</td>\n",
              "      <td>9.26</td>\n",
              "      <td>793665</td>\n",
              "    </tr>\n",
              "    <tr>\n",
              "      <th>28977</th>\n",
              "      <td>Gintama°</td>\n",
              "      <td>Action, Comedy, Historical, Parody, Samurai, S...</td>\n",
              "      <td>TV</td>\n",
              "      <td>51</td>\n",
              "      <td>9.25</td>\n",
              "      <td>114262</td>\n",
              "    </tr>\n",
              "    <tr>\n",
              "      <th>9253</th>\n",
              "      <td>Steins;Gate</td>\n",
              "      <td>Sci-Fi, Thriller</td>\n",
              "      <td>TV</td>\n",
              "      <td>24</td>\n",
              "      <td>9.17</td>\n",
              "      <td>673572</td>\n",
              "    </tr>\n",
              "    <tr>\n",
              "      <th>9969</th>\n",
              "      <td>Gintama&amp;#039;</td>\n",
              "      <td>Action, Comedy, Historical, Parody, Samurai, S...</td>\n",
              "      <td>TV</td>\n",
              "      <td>51</td>\n",
              "      <td>9.16</td>\n",
              "      <td>151266</td>\n",
              "    </tr>\n",
              "  </tbody>\n",
              "</table>\n",
              "</div>\n",
              "    <div class=\"colab-df-buttons\">\n",
              "\n",
              "  <div class=\"colab-df-container\">\n",
              "    <button class=\"colab-df-convert\" onclick=\"convertToInteractive('df-5bc7fd89-2cd3-44f9-b784-f118ce8a7ab7')\"\n",
              "            title=\"Convert this dataframe to an interactive table.\"\n",
              "            style=\"display:none;\">\n",
              "\n",
              "  <svg xmlns=\"http://www.w3.org/2000/svg\" height=\"24px\" viewBox=\"0 -960 960 960\">\n",
              "    <path d=\"M120-120v-720h720v720H120Zm60-500h600v-160H180v160Zm220 220h160v-160H400v160Zm0 220h160v-160H400v160ZM180-400h160v-160H180v160Zm440 0h160v-160H620v160ZM180-180h160v-160H180v160Zm440 0h160v-160H620v160Z\"/>\n",
              "  </svg>\n",
              "    </button>\n",
              "\n",
              "  <style>\n",
              "    .colab-df-container {\n",
              "      display:flex;\n",
              "      gap: 12px;\n",
              "    }\n",
              "\n",
              "    .colab-df-convert {\n",
              "      background-color: #E8F0FE;\n",
              "      border: none;\n",
              "      border-radius: 50%;\n",
              "      cursor: pointer;\n",
              "      display: none;\n",
              "      fill: #1967D2;\n",
              "      height: 32px;\n",
              "      padding: 0 0 0 0;\n",
              "      width: 32px;\n",
              "    }\n",
              "\n",
              "    .colab-df-convert:hover {\n",
              "      background-color: #E2EBFA;\n",
              "      box-shadow: 0px 1px 2px rgba(60, 64, 67, 0.3), 0px 1px 3px 1px rgba(60, 64, 67, 0.15);\n",
              "      fill: #174EA6;\n",
              "    }\n",
              "\n",
              "    .colab-df-buttons div {\n",
              "      margin-bottom: 4px;\n",
              "    }\n",
              "\n",
              "    [theme=dark] .colab-df-convert {\n",
              "      background-color: #3B4455;\n",
              "      fill: #D2E3FC;\n",
              "    }\n",
              "\n",
              "    [theme=dark] .colab-df-convert:hover {\n",
              "      background-color: #434B5C;\n",
              "      box-shadow: 0px 1px 3px 1px rgba(0, 0, 0, 0.15);\n",
              "      filter: drop-shadow(0px 1px 2px rgba(0, 0, 0, 0.3));\n",
              "      fill: #FFFFFF;\n",
              "    }\n",
              "  </style>\n",
              "\n",
              "    <script>\n",
              "      const buttonEl =\n",
              "        document.querySelector('#df-5bc7fd89-2cd3-44f9-b784-f118ce8a7ab7 button.colab-df-convert');\n",
              "      buttonEl.style.display =\n",
              "        google.colab.kernel.accessAllowed ? 'block' : 'none';\n",
              "\n",
              "      async function convertToInteractive(key) {\n",
              "        const element = document.querySelector('#df-5bc7fd89-2cd3-44f9-b784-f118ce8a7ab7');\n",
              "        const dataTable =\n",
              "          await google.colab.kernel.invokeFunction('convertToInteractive',\n",
              "                                                    [key], {});\n",
              "        if (!dataTable) return;\n",
              "\n",
              "        const docLinkHtml = 'Like what you see? Visit the ' +\n",
              "          '<a target=\"_blank\" href=https://colab.research.google.com/notebooks/data_table.ipynb>data table notebook</a>'\n",
              "          + ' to learn more about interactive tables.';\n",
              "        element.innerHTML = '';\n",
              "        dataTable['output_type'] = 'display_data';\n",
              "        await google.colab.output.renderOutput(dataTable, element);\n",
              "        const docLink = document.createElement('div');\n",
              "        docLink.innerHTML = docLinkHtml;\n",
              "        element.appendChild(docLink);\n",
              "      }\n",
              "    </script>\n",
              "  </div>\n",
              "\n",
              "\n",
              "<div id=\"df-2350f0fd-a3ae-4e87-a6e1-31333b4ba973\">\n",
              "  <button class=\"colab-df-quickchart\" onclick=\"quickchart('df-2350f0fd-a3ae-4e87-a6e1-31333b4ba973')\"\n",
              "            title=\"Suggest charts\"\n",
              "            style=\"display:none;\">\n",
              "\n",
              "<svg xmlns=\"http://www.w3.org/2000/svg\" height=\"24px\"viewBox=\"0 0 24 24\"\n",
              "     width=\"24px\">\n",
              "    <g>\n",
              "        <path d=\"M19 3H5c-1.1 0-2 .9-2 2v14c0 1.1.9 2 2 2h14c1.1 0 2-.9 2-2V5c0-1.1-.9-2-2-2zM9 17H7v-7h2v7zm4 0h-2V7h2v10zm4 0h-2v-4h2v4z\"/>\n",
              "    </g>\n",
              "</svg>\n",
              "  </button>\n",
              "\n",
              "<style>\n",
              "  .colab-df-quickchart {\n",
              "      --bg-color: #E8F0FE;\n",
              "      --fill-color: #1967D2;\n",
              "      --hover-bg-color: #E2EBFA;\n",
              "      --hover-fill-color: #174EA6;\n",
              "      --disabled-fill-color: #AAA;\n",
              "      --disabled-bg-color: #DDD;\n",
              "  }\n",
              "\n",
              "  [theme=dark] .colab-df-quickchart {\n",
              "      --bg-color: #3B4455;\n",
              "      --fill-color: #D2E3FC;\n",
              "      --hover-bg-color: #434B5C;\n",
              "      --hover-fill-color: #FFFFFF;\n",
              "      --disabled-bg-color: #3B4455;\n",
              "      --disabled-fill-color: #666;\n",
              "  }\n",
              "\n",
              "  .colab-df-quickchart {\n",
              "    background-color: var(--bg-color);\n",
              "    border: none;\n",
              "    border-radius: 50%;\n",
              "    cursor: pointer;\n",
              "    display: none;\n",
              "    fill: var(--fill-color);\n",
              "    height: 32px;\n",
              "    padding: 0;\n",
              "    width: 32px;\n",
              "  }\n",
              "\n",
              "  .colab-df-quickchart:hover {\n",
              "    background-color: var(--hover-bg-color);\n",
              "    box-shadow: 0 1px 2px rgba(60, 64, 67, 0.3), 0 1px 3px 1px rgba(60, 64, 67, 0.15);\n",
              "    fill: var(--button-hover-fill-color);\n",
              "  }\n",
              "\n",
              "  .colab-df-quickchart-complete:disabled,\n",
              "  .colab-df-quickchart-complete:disabled:hover {\n",
              "    background-color: var(--disabled-bg-color);\n",
              "    fill: var(--disabled-fill-color);\n",
              "    box-shadow: none;\n",
              "  }\n",
              "\n",
              "  .colab-df-spinner {\n",
              "    border: 2px solid var(--fill-color);\n",
              "    border-color: transparent;\n",
              "    border-bottom-color: var(--fill-color);\n",
              "    animation:\n",
              "      spin 1s steps(1) infinite;\n",
              "  }\n",
              "\n",
              "  @keyframes spin {\n",
              "    0% {\n",
              "      border-color: transparent;\n",
              "      border-bottom-color: var(--fill-color);\n",
              "      border-left-color: var(--fill-color);\n",
              "    }\n",
              "    20% {\n",
              "      border-color: transparent;\n",
              "      border-left-color: var(--fill-color);\n",
              "      border-top-color: var(--fill-color);\n",
              "    }\n",
              "    30% {\n",
              "      border-color: transparent;\n",
              "      border-left-color: var(--fill-color);\n",
              "      border-top-color: var(--fill-color);\n",
              "      border-right-color: var(--fill-color);\n",
              "    }\n",
              "    40% {\n",
              "      border-color: transparent;\n",
              "      border-right-color: var(--fill-color);\n",
              "      border-top-color: var(--fill-color);\n",
              "    }\n",
              "    60% {\n",
              "      border-color: transparent;\n",
              "      border-right-color: var(--fill-color);\n",
              "    }\n",
              "    80% {\n",
              "      border-color: transparent;\n",
              "      border-right-color: var(--fill-color);\n",
              "      border-bottom-color: var(--fill-color);\n",
              "    }\n",
              "    90% {\n",
              "      border-color: transparent;\n",
              "      border-bottom-color: var(--fill-color);\n",
              "    }\n",
              "  }\n",
              "</style>\n",
              "\n",
              "  <script>\n",
              "    async function quickchart(key) {\n",
              "      const quickchartButtonEl =\n",
              "        document.querySelector('#' + key + ' button');\n",
              "      quickchartButtonEl.disabled = true;  // To prevent multiple clicks.\n",
              "      quickchartButtonEl.classList.add('colab-df-spinner');\n",
              "      try {\n",
              "        const charts = await google.colab.kernel.invokeFunction(\n",
              "            'suggestCharts', [key], {});\n",
              "      } catch (error) {\n",
              "        console.error('Error during call to suggestCharts:', error);\n",
              "      }\n",
              "      quickchartButtonEl.classList.remove('colab-df-spinner');\n",
              "      quickchartButtonEl.classList.add('colab-df-quickchart-complete');\n",
              "    }\n",
              "    (() => {\n",
              "      let quickchartButtonEl =\n",
              "        document.querySelector('#df-2350f0fd-a3ae-4e87-a6e1-31333b4ba973 button');\n",
              "      quickchartButtonEl.style.display =\n",
              "        google.colab.kernel.accessAllowed ? 'block' : 'none';\n",
              "    })();\n",
              "  </script>\n",
              "</div>\n",
              "    </div>\n",
              "  </div>\n"
            ],
            "application/vnd.google.colaboratory.intrinsic+json": {
              "type": "dataframe",
              "variable_name": "anime",
              "summary": "{\n  \"name\": \"anime\",\n  \"rows\": 12017,\n  \"fields\": [\n    {\n      \"column\": \"anime_id\",\n      \"properties\": {\n        \"dtype\": \"number\",\n        \"std\": 11231,\n        \"min\": 1,\n        \"max\": 34519,\n        \"num_unique_values\": 12017,\n        \"samples\": [\n          556,\n          21599,\n          26209\n        ],\n        \"semantic_type\": \"\",\n        \"description\": \"\"\n      }\n    },\n    {\n      \"column\": \"name\",\n      \"properties\": {\n        \"dtype\": \"string\",\n        \"num_unique_values\": 12015,\n        \"samples\": [\n          \"Connected\",\n          \"Crusher Joe (1989)\",\n          \"Kick-Heart\"\n        ],\n        \"semantic_type\": \"\",\n        \"description\": \"\"\n      }\n    },\n    {\n      \"column\": \"genre\",\n      \"properties\": {\n        \"dtype\": \"category\",\n        \"num_unique_values\": 3229,\n        \"samples\": [\n          \"Adventure, Comedy, Demons, Fantasy, Shoujo\",\n          \"Adventure, Comedy, Drama\",\n          \"Action, Comedy, Sports\"\n        ],\n        \"semantic_type\": \"\",\n        \"description\": \"\"\n      }\n    },\n    {\n      \"column\": \"type\",\n      \"properties\": {\n        \"dtype\": \"category\",\n        \"num_unique_values\": 6,\n        \"samples\": [\n          \"Movie\",\n          \"TV\",\n          \"ONA\"\n        ],\n        \"semantic_type\": \"\",\n        \"description\": \"\"\n      }\n    },\n    {\n      \"column\": \"episodes\",\n      \"properties\": {\n        \"dtype\": \"category\",\n        \"num_unique_values\": 187,\n        \"samples\": [\n          \"141\",\n          \"54\",\n          \"52\"\n        ],\n        \"semantic_type\": \"\",\n        \"description\": \"\"\n      }\n    },\n    {\n      \"column\": \"rating\",\n      \"properties\": {\n        \"dtype\": \"number\",\n        \"std\": 1.0238566985113748,\n        \"min\": 1.67,\n        \"max\": 10.0,\n        \"num_unique_values\": 598,\n        \"samples\": [\n          7.87,\n          6.11,\n          4.1\n        ],\n        \"semantic_type\": \"\",\n        \"description\": \"\"\n      }\n    },\n    {\n      \"column\": \"members\",\n      \"properties\": {\n        \"dtype\": \"number\",\n        \"std\": 55372,\n        \"min\": 12,\n        \"max\": 1013917,\n        \"num_unique_values\": 6596,\n        \"samples\": [\n          1293,\n          9568,\n          51789\n        ],\n        \"semantic_type\": \"\",\n        \"description\": \"\"\n      }\n    }\n  ]\n}"
            }
          },
          "metadata": {},
          "execution_count": 6
        }
      ],
      "source": [
        "anime = pd.read_csv('anime.csv.zip', index_col='anime_id')\n",
        "anime.dropna(inplace=True)\n",
        "print(anime.shape)\n",
        "anime.head()"
      ]
    },
    {
      "cell_type": "code",
      "execution_count": null,
      "metadata": {
        "id": "c9VKgQNV-VKE",
        "outputId": "790861eb-0be3-47e3-874c-c6bcc2470f68",
        "colab": {
          "base_uri": "https://localhost:8080/",
          "height": 261
        }
      },
      "outputs": [
        {
          "output_type": "display_data",
          "data": {
            "text/plain": [
              "<IPython.core.display.HTML object>"
            ],
            "text/html": [
              "\n",
              "     <input type=\"file\" id=\"files-f6409c4e-e706-4b4e-9b81-514d96c7c16e\" name=\"files[]\" multiple disabled\n",
              "        style=\"border:none\" />\n",
              "     <output id=\"result-f6409c4e-e706-4b4e-9b81-514d96c7c16e\">\n",
              "      Upload widget is only available when the cell has been executed in the\n",
              "      current browser session. Please rerun this cell to enable.\n",
              "      </output>\n",
              "      <script>// Copyright 2017 Google LLC\n",
              "//\n",
              "// Licensed under the Apache License, Version 2.0 (the \"License\");\n",
              "// you may not use this file except in compliance with the License.\n",
              "// You may obtain a copy of the License at\n",
              "//\n",
              "//      http://www.apache.org/licenses/LICENSE-2.0\n",
              "//\n",
              "// Unless required by applicable law or agreed to in writing, software\n",
              "// distributed under the License is distributed on an \"AS IS\" BASIS,\n",
              "// WITHOUT WARRANTIES OR CONDITIONS OF ANY KIND, either express or implied.\n",
              "// See the License for the specific language governing permissions and\n",
              "// limitations under the License.\n",
              "\n",
              "/**\n",
              " * @fileoverview Helpers for google.colab Python module.\n",
              " */\n",
              "(function(scope) {\n",
              "function span(text, styleAttributes = {}) {\n",
              "  const element = document.createElement('span');\n",
              "  element.textContent = text;\n",
              "  for (const key of Object.keys(styleAttributes)) {\n",
              "    element.style[key] = styleAttributes[key];\n",
              "  }\n",
              "  return element;\n",
              "}\n",
              "\n",
              "// Max number of bytes which will be uploaded at a time.\n",
              "const MAX_PAYLOAD_SIZE = 100 * 1024;\n",
              "\n",
              "function _uploadFiles(inputId, outputId) {\n",
              "  const steps = uploadFilesStep(inputId, outputId);\n",
              "  const outputElement = document.getElementById(outputId);\n",
              "  // Cache steps on the outputElement to make it available for the next call\n",
              "  // to uploadFilesContinue from Python.\n",
              "  outputElement.steps = steps;\n",
              "\n",
              "  return _uploadFilesContinue(outputId);\n",
              "}\n",
              "\n",
              "// This is roughly an async generator (not supported in the browser yet),\n",
              "// where there are multiple asynchronous steps and the Python side is going\n",
              "// to poll for completion of each step.\n",
              "// This uses a Promise to block the python side on completion of each step,\n",
              "// then passes the result of the previous step as the input to the next step.\n",
              "function _uploadFilesContinue(outputId) {\n",
              "  const outputElement = document.getElementById(outputId);\n",
              "  const steps = outputElement.steps;\n",
              "\n",
              "  const next = steps.next(outputElement.lastPromiseValue);\n",
              "  return Promise.resolve(next.value.promise).then((value) => {\n",
              "    // Cache the last promise value to make it available to the next\n",
              "    // step of the generator.\n",
              "    outputElement.lastPromiseValue = value;\n",
              "    return next.value.response;\n",
              "  });\n",
              "}\n",
              "\n",
              "/**\n",
              " * Generator function which is called between each async step of the upload\n",
              " * process.\n",
              " * @param {string} inputId Element ID of the input file picker element.\n",
              " * @param {string} outputId Element ID of the output display.\n",
              " * @return {!Iterable<!Object>} Iterable of next steps.\n",
              " */\n",
              "function* uploadFilesStep(inputId, outputId) {\n",
              "  const inputElement = document.getElementById(inputId);\n",
              "  inputElement.disabled = false;\n",
              "\n",
              "  const outputElement = document.getElementById(outputId);\n",
              "  outputElement.innerHTML = '';\n",
              "\n",
              "  const pickedPromise = new Promise((resolve) => {\n",
              "    inputElement.addEventListener('change', (e) => {\n",
              "      resolve(e.target.files);\n",
              "    });\n",
              "  });\n",
              "\n",
              "  const cancel = document.createElement('button');\n",
              "  inputElement.parentElement.appendChild(cancel);\n",
              "  cancel.textContent = 'Cancel upload';\n",
              "  const cancelPromise = new Promise((resolve) => {\n",
              "    cancel.onclick = () => {\n",
              "      resolve(null);\n",
              "    };\n",
              "  });\n",
              "\n",
              "  // Wait for the user to pick the files.\n",
              "  const files = yield {\n",
              "    promise: Promise.race([pickedPromise, cancelPromise]),\n",
              "    response: {\n",
              "      action: 'starting',\n",
              "    }\n",
              "  };\n",
              "\n",
              "  cancel.remove();\n",
              "\n",
              "  // Disable the input element since further picks are not allowed.\n",
              "  inputElement.disabled = true;\n",
              "\n",
              "  if (!files) {\n",
              "    return {\n",
              "      response: {\n",
              "        action: 'complete',\n",
              "      }\n",
              "    };\n",
              "  }\n",
              "\n",
              "  for (const file of files) {\n",
              "    const li = document.createElement('li');\n",
              "    li.append(span(file.name, {fontWeight: 'bold'}));\n",
              "    li.append(span(\n",
              "        `(${file.type || 'n/a'}) - ${file.size} bytes, ` +\n",
              "        `last modified: ${\n",
              "            file.lastModifiedDate ? file.lastModifiedDate.toLocaleDateString() :\n",
              "                                    'n/a'} - `));\n",
              "    const percent = span('0% done');\n",
              "    li.appendChild(percent);\n",
              "\n",
              "    outputElement.appendChild(li);\n",
              "\n",
              "    const fileDataPromise = new Promise((resolve) => {\n",
              "      const reader = new FileReader();\n",
              "      reader.onload = (e) => {\n",
              "        resolve(e.target.result);\n",
              "      };\n",
              "      reader.readAsArrayBuffer(file);\n",
              "    });\n",
              "    // Wait for the data to be ready.\n",
              "    let fileData = yield {\n",
              "      promise: fileDataPromise,\n",
              "      response: {\n",
              "        action: 'continue',\n",
              "      }\n",
              "    };\n",
              "\n",
              "    // Use a chunked sending to avoid message size limits. See b/62115660.\n",
              "    let position = 0;\n",
              "    do {\n",
              "      const length = Math.min(fileData.byteLength - position, MAX_PAYLOAD_SIZE);\n",
              "      const chunk = new Uint8Array(fileData, position, length);\n",
              "      position += length;\n",
              "\n",
              "      const base64 = btoa(String.fromCharCode.apply(null, chunk));\n",
              "      yield {\n",
              "        response: {\n",
              "          action: 'append',\n",
              "          file: file.name,\n",
              "          data: base64,\n",
              "        },\n",
              "      };\n",
              "\n",
              "      let percentDone = fileData.byteLength === 0 ?\n",
              "          100 :\n",
              "          Math.round((position / fileData.byteLength) * 100);\n",
              "      percent.textContent = `${percentDone}% done`;\n",
              "\n",
              "    } while (position < fileData.byteLength);\n",
              "  }\n",
              "\n",
              "  // All done.\n",
              "  yield {\n",
              "    response: {\n",
              "      action: 'complete',\n",
              "    }\n",
              "  };\n",
              "}\n",
              "\n",
              "scope.google = scope.google || {};\n",
              "scope.google.colab = scope.google.colab || {};\n",
              "scope.google.colab._files = {\n",
              "  _uploadFiles,\n",
              "  _uploadFilesContinue,\n",
              "};\n",
              "})(self);\n",
              "</script> "
            ]
          },
          "metadata": {}
        },
        {
          "output_type": "stream",
          "name": "stdout",
          "text": [
            "Saving rating.csv.zip to rating.csv.zip\n"
          ]
        },
        {
          "output_type": "execute_result",
          "data": {
            "text/plain": [
              "   user_id  anime_id  rating\n",
              "0        1        20      -1\n",
              "1        1        24      -1\n",
              "2        1        79      -1\n",
              "3        1       226      -1\n",
              "4        1       241      -1"
            ],
            "text/html": [
              "\n",
              "  <div id=\"df-9454b32b-3732-4d13-a23f-8a58ba4398e4\" class=\"colab-df-container\">\n",
              "    <div>\n",
              "<style scoped>\n",
              "    .dataframe tbody tr th:only-of-type {\n",
              "        vertical-align: middle;\n",
              "    }\n",
              "\n",
              "    .dataframe tbody tr th {\n",
              "        vertical-align: top;\n",
              "    }\n",
              "\n",
              "    .dataframe thead th {\n",
              "        text-align: right;\n",
              "    }\n",
              "</style>\n",
              "<table border=\"1\" class=\"dataframe\">\n",
              "  <thead>\n",
              "    <tr style=\"text-align: right;\">\n",
              "      <th></th>\n",
              "      <th>user_id</th>\n",
              "      <th>anime_id</th>\n",
              "      <th>rating</th>\n",
              "    </tr>\n",
              "  </thead>\n",
              "  <tbody>\n",
              "    <tr>\n",
              "      <th>0</th>\n",
              "      <td>1</td>\n",
              "      <td>20</td>\n",
              "      <td>-1</td>\n",
              "    </tr>\n",
              "    <tr>\n",
              "      <th>1</th>\n",
              "      <td>1</td>\n",
              "      <td>24</td>\n",
              "      <td>-1</td>\n",
              "    </tr>\n",
              "    <tr>\n",
              "      <th>2</th>\n",
              "      <td>1</td>\n",
              "      <td>79</td>\n",
              "      <td>-1</td>\n",
              "    </tr>\n",
              "    <tr>\n",
              "      <th>3</th>\n",
              "      <td>1</td>\n",
              "      <td>226</td>\n",
              "      <td>-1</td>\n",
              "    </tr>\n",
              "    <tr>\n",
              "      <th>4</th>\n",
              "      <td>1</td>\n",
              "      <td>241</td>\n",
              "      <td>-1</td>\n",
              "    </tr>\n",
              "  </tbody>\n",
              "</table>\n",
              "</div>\n",
              "    <div class=\"colab-df-buttons\">\n",
              "\n",
              "  <div class=\"colab-df-container\">\n",
              "    <button class=\"colab-df-convert\" onclick=\"convertToInteractive('df-9454b32b-3732-4d13-a23f-8a58ba4398e4')\"\n",
              "            title=\"Convert this dataframe to an interactive table.\"\n",
              "            style=\"display:none;\">\n",
              "\n",
              "  <svg xmlns=\"http://www.w3.org/2000/svg\" height=\"24px\" viewBox=\"0 -960 960 960\">\n",
              "    <path d=\"M120-120v-720h720v720H120Zm60-500h600v-160H180v160Zm220 220h160v-160H400v160Zm0 220h160v-160H400v160ZM180-400h160v-160H180v160Zm440 0h160v-160H620v160ZM180-180h160v-160H180v160Zm440 0h160v-160H620v160Z\"/>\n",
              "  </svg>\n",
              "    </button>\n",
              "\n",
              "  <style>\n",
              "    .colab-df-container {\n",
              "      display:flex;\n",
              "      gap: 12px;\n",
              "    }\n",
              "\n",
              "    .colab-df-convert {\n",
              "      background-color: #E8F0FE;\n",
              "      border: none;\n",
              "      border-radius: 50%;\n",
              "      cursor: pointer;\n",
              "      display: none;\n",
              "      fill: #1967D2;\n",
              "      height: 32px;\n",
              "      padding: 0 0 0 0;\n",
              "      width: 32px;\n",
              "    }\n",
              "\n",
              "    .colab-df-convert:hover {\n",
              "      background-color: #E2EBFA;\n",
              "      box-shadow: 0px 1px 2px rgba(60, 64, 67, 0.3), 0px 1px 3px 1px rgba(60, 64, 67, 0.15);\n",
              "      fill: #174EA6;\n",
              "    }\n",
              "\n",
              "    .colab-df-buttons div {\n",
              "      margin-bottom: 4px;\n",
              "    }\n",
              "\n",
              "    [theme=dark] .colab-df-convert {\n",
              "      background-color: #3B4455;\n",
              "      fill: #D2E3FC;\n",
              "    }\n",
              "\n",
              "    [theme=dark] .colab-df-convert:hover {\n",
              "      background-color: #434B5C;\n",
              "      box-shadow: 0px 1px 3px 1px rgba(0, 0, 0, 0.15);\n",
              "      filter: drop-shadow(0px 1px 2px rgba(0, 0, 0, 0.3));\n",
              "      fill: #FFFFFF;\n",
              "    }\n",
              "  </style>\n",
              "\n",
              "    <script>\n",
              "      const buttonEl =\n",
              "        document.querySelector('#df-9454b32b-3732-4d13-a23f-8a58ba4398e4 button.colab-df-convert');\n",
              "      buttonEl.style.display =\n",
              "        google.colab.kernel.accessAllowed ? 'block' : 'none';\n",
              "\n",
              "      async function convertToInteractive(key) {\n",
              "        const element = document.querySelector('#df-9454b32b-3732-4d13-a23f-8a58ba4398e4');\n",
              "        const dataTable =\n",
              "          await google.colab.kernel.invokeFunction('convertToInteractive',\n",
              "                                                    [key], {});\n",
              "        if (!dataTable) return;\n",
              "\n",
              "        const docLinkHtml = 'Like what you see? Visit the ' +\n",
              "          '<a target=\"_blank\" href=https://colab.research.google.com/notebooks/data_table.ipynb>data table notebook</a>'\n",
              "          + ' to learn more about interactive tables.';\n",
              "        element.innerHTML = '';\n",
              "        dataTable['output_type'] = 'display_data';\n",
              "        await google.colab.output.renderOutput(dataTable, element);\n",
              "        const docLink = document.createElement('div');\n",
              "        docLink.innerHTML = docLinkHtml;\n",
              "        element.appendChild(docLink);\n",
              "      }\n",
              "    </script>\n",
              "  </div>\n",
              "\n",
              "\n",
              "<div id=\"df-6afe6ff5-6e81-41e0-947b-c13580396e57\">\n",
              "  <button class=\"colab-df-quickchart\" onclick=\"quickchart('df-6afe6ff5-6e81-41e0-947b-c13580396e57')\"\n",
              "            title=\"Suggest charts\"\n",
              "            style=\"display:none;\">\n",
              "\n",
              "<svg xmlns=\"http://www.w3.org/2000/svg\" height=\"24px\"viewBox=\"0 0 24 24\"\n",
              "     width=\"24px\">\n",
              "    <g>\n",
              "        <path d=\"M19 3H5c-1.1 0-2 .9-2 2v14c0 1.1.9 2 2 2h14c1.1 0 2-.9 2-2V5c0-1.1-.9-2-2-2zM9 17H7v-7h2v7zm4 0h-2V7h2v10zm4 0h-2v-4h2v4z\"/>\n",
              "    </g>\n",
              "</svg>\n",
              "  </button>\n",
              "\n",
              "<style>\n",
              "  .colab-df-quickchart {\n",
              "      --bg-color: #E8F0FE;\n",
              "      --fill-color: #1967D2;\n",
              "      --hover-bg-color: #E2EBFA;\n",
              "      --hover-fill-color: #174EA6;\n",
              "      --disabled-fill-color: #AAA;\n",
              "      --disabled-bg-color: #DDD;\n",
              "  }\n",
              "\n",
              "  [theme=dark] .colab-df-quickchart {\n",
              "      --bg-color: #3B4455;\n",
              "      --fill-color: #D2E3FC;\n",
              "      --hover-bg-color: #434B5C;\n",
              "      --hover-fill-color: #FFFFFF;\n",
              "      --disabled-bg-color: #3B4455;\n",
              "      --disabled-fill-color: #666;\n",
              "  }\n",
              "\n",
              "  .colab-df-quickchart {\n",
              "    background-color: var(--bg-color);\n",
              "    border: none;\n",
              "    border-radius: 50%;\n",
              "    cursor: pointer;\n",
              "    display: none;\n",
              "    fill: var(--fill-color);\n",
              "    height: 32px;\n",
              "    padding: 0;\n",
              "    width: 32px;\n",
              "  }\n",
              "\n",
              "  .colab-df-quickchart:hover {\n",
              "    background-color: var(--hover-bg-color);\n",
              "    box-shadow: 0 1px 2px rgba(60, 64, 67, 0.3), 0 1px 3px 1px rgba(60, 64, 67, 0.15);\n",
              "    fill: var(--button-hover-fill-color);\n",
              "  }\n",
              "\n",
              "  .colab-df-quickchart-complete:disabled,\n",
              "  .colab-df-quickchart-complete:disabled:hover {\n",
              "    background-color: var(--disabled-bg-color);\n",
              "    fill: var(--disabled-fill-color);\n",
              "    box-shadow: none;\n",
              "  }\n",
              "\n",
              "  .colab-df-spinner {\n",
              "    border: 2px solid var(--fill-color);\n",
              "    border-color: transparent;\n",
              "    border-bottom-color: var(--fill-color);\n",
              "    animation:\n",
              "      spin 1s steps(1) infinite;\n",
              "  }\n",
              "\n",
              "  @keyframes spin {\n",
              "    0% {\n",
              "      border-color: transparent;\n",
              "      border-bottom-color: var(--fill-color);\n",
              "      border-left-color: var(--fill-color);\n",
              "    }\n",
              "    20% {\n",
              "      border-color: transparent;\n",
              "      border-left-color: var(--fill-color);\n",
              "      border-top-color: var(--fill-color);\n",
              "    }\n",
              "    30% {\n",
              "      border-color: transparent;\n",
              "      border-left-color: var(--fill-color);\n",
              "      border-top-color: var(--fill-color);\n",
              "      border-right-color: var(--fill-color);\n",
              "    }\n",
              "    40% {\n",
              "      border-color: transparent;\n",
              "      border-right-color: var(--fill-color);\n",
              "      border-top-color: var(--fill-color);\n",
              "    }\n",
              "    60% {\n",
              "      border-color: transparent;\n",
              "      border-right-color: var(--fill-color);\n",
              "    }\n",
              "    80% {\n",
              "      border-color: transparent;\n",
              "      border-right-color: var(--fill-color);\n",
              "      border-bottom-color: var(--fill-color);\n",
              "    }\n",
              "    90% {\n",
              "      border-color: transparent;\n",
              "      border-bottom-color: var(--fill-color);\n",
              "    }\n",
              "  }\n",
              "</style>\n",
              "\n",
              "  <script>\n",
              "    async function quickchart(key) {\n",
              "      const quickchartButtonEl =\n",
              "        document.querySelector('#' + key + ' button');\n",
              "      quickchartButtonEl.disabled = true;  // To prevent multiple clicks.\n",
              "      quickchartButtonEl.classList.add('colab-df-spinner');\n",
              "      try {\n",
              "        const charts = await google.colab.kernel.invokeFunction(\n",
              "            'suggestCharts', [key], {});\n",
              "      } catch (error) {\n",
              "        console.error('Error during call to suggestCharts:', error);\n",
              "      }\n",
              "      quickchartButtonEl.classList.remove('colab-df-spinner');\n",
              "      quickchartButtonEl.classList.add('colab-df-quickchart-complete');\n",
              "    }\n",
              "    (() => {\n",
              "      let quickchartButtonEl =\n",
              "        document.querySelector('#df-6afe6ff5-6e81-41e0-947b-c13580396e57 button');\n",
              "      quickchartButtonEl.style.display =\n",
              "        google.colab.kernel.accessAllowed ? 'block' : 'none';\n",
              "    })();\n",
              "  </script>\n",
              "</div>\n",
              "    </div>\n",
              "  </div>\n"
            ],
            "application/vnd.google.colaboratory.intrinsic+json": {
              "type": "dataframe",
              "variable_name": "ratings"
            }
          },
          "metadata": {},
          "execution_count": 8
        }
      ],
      "source": [
        "from google.colab import files\n",
        "uploaded = files.upload()\n",
        "ratings = pd.read_csv('rating.csv.zip')\n",
        "ratings.head()"
      ]
    },
    {
      "cell_type": "markdown",
      "metadata": {
        "id": "h338V2Lwb2gj"
      },
      "source": [
        "Датасет очень большой и грязный. Некоторые действия с этим датасетом будут требовать много оперативной памяти(>6 Гб).\n",
        "\n",
        "## Подготовка данных"
      ]
    },
    {
      "cell_type": "markdown",
      "metadata": {
        "id": "e839HZu_b2gk"
      },
      "source": [
        "\\Во первых, в датасете есть много -1. Оценки -1 и 0 на myanimelist.net нет.\n",
        "\n",
        "Здесь -1 означает что человек посмотрел это аниме, но не выставил оценку.\n",
        "\n",
        "Такие записи из `ratings` стоит выбросить, так как в нашем случае они особо не помогут.\n",
        "\n",
        "Но и не помешают серьезно. Если хотите оставьте их, только нужно заменить все -1 на 0, так как дальше нам понадобится посчитать среднее, а -1 или 0, в отличие от `np.nan`, повлияют на среднее.\n",
        "\n",
        "### 1. Избавьтесь от -1"
      ]
    },
    {
      "cell_type": "code",
      "execution_count": null,
      "metadata": {
        "id": "pCRsQ18wb2gl",
        "colab": {
          "base_uri": "https://localhost:8080/"
        },
        "outputId": "f6823ec9-c003-4949-b294-ac7086e3d3f8"
      },
      "outputs": [
        {
          "output_type": "stream",
          "name": "stdout",
          "text": [
            "Размер исходного датасета: (7813737, 3)\n",
            "Размер очищенного датасета: (6337241, 3)\n",
            "     user_id  anime_id  rating\n",
            "47         1      8074      10\n",
            "81         1     11617      10\n",
            "83         1     11757      10\n",
            "101        1     15451      10\n",
            "153        2     11771      10\n",
            "Очищенный датасет сохранен в файл 'cleaned_ratings.csv'\n"
          ]
        }
      ],
      "source": [
        "print(f\"Размер исходного датасета: {ratings.shape}\")\n",
        "ratings_cleaned = ratings[ratings['rating'] != -1]\n",
        "print(f\"Размер очищенного датасета: {ratings_cleaned.shape}\")\n",
        "print(ratings_cleaned.head())\n",
        "ratings_cleaned.to_csv(\"cleaned_ratings.csv\", index=False)\n",
        "print(\"Очищенный датасет сохранен в файл 'cleaned_ratings.csv'\")"
      ]
    },
    {
      "cell_type": "markdown",
      "metadata": {
        "id": "Cm0qReHpb2gq"
      },
      "source": [
        "## Критерий Шавене (Chauvenet)\n",
        "\n",
        "[Теория](https://www.youtube.com/watch?v=Fy9pHH3ykPE&list=PLLyuiBK_HOLPfRVN6r9305FKXq1ravbbX)\n",
        "\n",
        "$$ \\operatorname{erfc}(\\frac{|P_i - mean(P)|}{S_p})  < \\frac{1}{2n}$$\n",
        "\n",
        "$ S_p - отклонение $\n",
        "\n",
        "Готовой реализации в библиотеках нет, поэтому придется написать самим(но если найдете можете использовать).\n",
        "\n",
        "`erfc` — это дополнительная функция ошибок Гаусса. [wiki](https://ru.wikipedia.org/wiki/%D0%A4%D1%83%D0%BD%D0%BA%D1%86%D0%B8%D1%8F_%D0%BE%D1%88%D0%B8%D0%B1%D0%BE%D0%BA)\n",
        "\n",
        "$$\\operatorname{erfc}\\,x = 1-\\operatorname{erf}\\,x = \\frac{2}{\\sqrt{\\pi}} \\int\\limits_x^{\\infty} e^{-t^2}\\,\\mathrm dt$$\n",
        "\n",
        "$$\\operatorname{erf}\\,x = \\frac{2}{\\sqrt{\\pi}}\\int\\limits_0^x e^{-t^2}\\,\\mathrm dt$$\n",
        "\n",
        "### 2. Напишите функцию, которая принимает на вход массив, считает критерий Шавене и возвращает булеву маску.\n",
        "\n",
        "Функция `erfc` есть в sklearn."
      ]
    },
    {
      "cell_type": "code",
      "execution_count": null,
      "metadata": {
        "id": "SRPB9ZGVb2gr",
        "colab": {
          "base_uri": "https://localhost:8080/"
        },
        "outputId": "0d4a24c2-aa0a-4c44-f8b4-3d3850c17c50"
      },
      "outputs": [
        {
          "output_type": "stream",
          "name": "stdout",
          "text": [
            "Массив значений: [ 10  12  13  12 500  11  10]\n",
            "Булева маска: [ True  True  True  True False  True  True]\n",
            "Значения, проходящие критерий: [10 12 13 12 11 10]\n"
          ]
        }
      ],
      "source": [
        "def chauvenet(array):\n",
        "    n = len(array)\n",
        "    mean = np.mean(array)\n",
        "    std_dev = np.std(array)\n",
        "    criterion = erfc(np.abs(array - mean) / (std_dev * np.sqrt(2)))\n",
        "    mask = criterion >= 1 / (2 * n)\n",
        "    return mask\n",
        "\n",
        "\n",
        "example_array = np.array([10, 12, 13, 12, 500, 11, 10])\n",
        "mask = chauvenet(example_array)\n",
        "\n",
        "print(\"Массив значений:\", example_array)\n",
        "print(\"Булева маска:\", mask)\n",
        "print(\"Значения, проходящие критерий:\", example_array[mask])\n"
      ]
    },
    {
      "cell_type": "markdown",
      "metadata": {
        "id": "YibqZ90_b2gv"
      },
      "source": [
        "Для начала давайте посмотрим на таблицу рейтингов.\n",
        "\n",
        "### 3. Сделайте новую таблицу `count_reviews` где индексами будет `user_id` а значением будет количество просмотренных им аниме.\n",
        "\n",
        "\n",
        "**Hint** Используйте [groupby](https://pandas.pydata.org/pandas-docs/stable/reference/api/pandas.DataFrame.groupby.html) и [count](https://pandas.pydata.org/pandas-docs/stable/reference/api/pandas.DataFrame.count.html)."
      ]
    },
    {
      "cell_type": "code",
      "execution_count": null,
      "metadata": {
        "id": "M3XQcmqvb2gw",
        "colab": {
          "base_uri": "https://localhost:8080/"
        },
        "outputId": "0ea2aaa6-8b92-4e7c-cc8e-bea6759a847e"
      },
      "outputs": [
        {
          "output_type": "stream",
          "name": "stdout",
          "text": [
            "   user_id  count_reviews\n",
            "0        1              4\n",
            "1        2              1\n",
            "2        3             92\n",
            "3        5            459\n",
            "4        7            343\n"
          ]
        }
      ],
      "source": [
        "count_reviews = ratings_cleaned.groupby('user_id')['anime_id'].count()\n",
        "count_reviews = count_reviews.reset_index()\n",
        "count_reviews.columns = ['user_id', 'count_reviews']\n",
        "print(count_reviews.head())\n"
      ]
    },
    {
      "cell_type": "markdown",
      "metadata": {
        "id": "ZCtMNEeRb2g0"
      },
      "source": [
        "### 4. Используйте функцию chauvenet и найдите все выбросы.\n",
        "\n",
        "**Hint:** Так как chauvenet возвращает маску используйте оператор `[]` (подробнее смотрите в 1 теории по pandas и numpy).\n",
        "\n",
        "**Hint:** Используйте [values](https://pandas.pydata.org/pandas-docs/stable/reference/api/pandas.DataFrame.values.html)."
      ]
    },
    {
      "cell_type": "code",
      "execution_count": null,
      "metadata": {
        "id": "dN5Q6T87b2g2",
        "colab": {
          "base_uri": "https://localhost:8080/"
        },
        "outputId": "6974c709-904c-4e2d-8058-4a0fa33483a5"
      },
      "outputs": [
        {
          "output_type": "stream",
          "name": "stdout",
          "text": [
            "Количество выбросов: 550\n",
            "Примеры выбросов:\n",
            "      user_id  count_reviews\n",
            "214       226            742\n",
            "419       446            743\n",
            "446       478            863\n",
            "900       958            783\n",
            "1077     1145            904\n"
          ]
        }
      ],
      "source": [
        "mask = chauvenet(count_reviews['count_reviews'].values)\n",
        "outlier_users = count_reviews[~mask]\n",
        "print(f\"Количество выбросов: {len(outlier_users)}\")\n",
        "print(\"Примеры выбросов:\")\n",
        "print(outlier_users.head())\n"
      ]
    },
    {
      "cell_type": "markdown",
      "metadata": {
        "id": "OMHGjMnFb2g5"
      },
      "source": [
        "### 5. Ответьте на вопросы\n",
        "\n",
        "#### Кого критерий посчитал выбросом?\n",
        "Критерий Шавене посчитал выбросами пользователей, у которых количество просмотренных аниме значительно превышает типичные значения для большинства. Эти пользователи имеют значения, которые отклоняются от среднего на несколько стандартных отклонений и встречаются крайне редко.\n",
        "\n",
        "#### Почему критерий посчитал их выбросом?\n",
        "Эти пользователи статистически выделяются, так как их количество просмотренных аниме значительно превышает среднее значение в выборке. Такие значения имеют низкую вероятность появления в рамках нормального распределения.\n",
        "\n",
        "#### Нужна ли им вообще рекомендательная система?\n",
        "Вероятно посмотрев столько тайтлов они уже и сами неплохо разбираются в теме, поэтому маловероятно.\n",
        "\n",
        "### 6. Переименнуйте столбец из таблицы count_reviews в count_reviews (он там единственный). Соедините count_reviews и ratings по столбцу user_id. И оставьте в ratings только тех кто посмотрел меньше bad_user_threshold\n",
        "\n",
        "\n",
        "\n"
      ]
    },
    {
      "cell_type": "code",
      "execution_count": null,
      "metadata": {
        "colab": {
          "base_uri": "https://localhost:8080/",
          "height": 147
        },
        "id": "ydf-q8Hqo8eC",
        "outputId": "77414394-1a5b-4a8f-e6bf-6e5db1eb18b8"
      },
      "outputs": [
        {
          "output_type": "execute_result",
          "data": {
            "text/plain": [
              "user_id          226\n",
              "count_reviews    701\n",
              "dtype: int64"
            ],
            "text/html": [
              "<div>\n",
              "<style scoped>\n",
              "    .dataframe tbody tr th:only-of-type {\n",
              "        vertical-align: middle;\n",
              "    }\n",
              "\n",
              "    .dataframe tbody tr th {\n",
              "        vertical-align: top;\n",
              "    }\n",
              "\n",
              "    .dataframe thead th {\n",
              "        text-align: right;\n",
              "    }\n",
              "</style>\n",
              "<table border=\"1\" class=\"dataframe\">\n",
              "  <thead>\n",
              "    <tr style=\"text-align: right;\">\n",
              "      <th></th>\n",
              "      <th>0</th>\n",
              "    </tr>\n",
              "  </thead>\n",
              "  <tbody>\n",
              "    <tr>\n",
              "      <th>user_id</th>\n",
              "      <td>226</td>\n",
              "    </tr>\n",
              "    <tr>\n",
              "      <th>count_reviews</th>\n",
              "      <td>701</td>\n",
              "    </tr>\n",
              "  </tbody>\n",
              "</table>\n",
              "</div><br><label><b>dtype:</b> int64</label>"
            ]
          },
          "metadata": {},
          "execution_count": 54
        }
      ],
      "source": [
        "bad_user_threshold = outlier_users.min()\n",
        "bad_user_threshold"
      ]
    },
    {
      "cell_type": "code",
      "execution_count": null,
      "metadata": {
        "colab": {
          "base_uri": "https://localhost:8080/"
        },
        "id": "MLc96yuEo7j7",
        "outputId": "77f8e057-faec-417c-cad9-68110354a192"
      },
      "outputs": [
        {
          "output_type": "stream",
          "name": "stdout",
          "text": [
            "Размер отфильтрованного датасета: (5804470, 4)\n",
            "   user_id  anime_id  rating  count_reviews\n",
            "0        1      8074      10              4\n",
            "1        1     11617      10              4\n",
            "2        1     11757      10              4\n",
            "3        1     15451      10              4\n",
            "4        2     11771      10              1\n"
          ]
        }
      ],
      "source": [
        "bad_user_threshold = outlier_users['count_reviews'].min()\n",
        "count_reviews.rename(columns={'count_reviews': 'count_reviews'}, inplace=True)\n",
        "ratings_merged = ratings_cleaned.merge(count_reviews, on='user_id', how='inner')\n",
        "ratings_filtered = ratings_merged[ratings_merged['count_reviews'] < bad_user_threshold]\n",
        "print(f\"Размер отфильтрованного датасета: {ratings_filtered.shape}\")\n",
        "print(ratings_filtered.head())\n"
      ]
    },
    {
      "cell_type": "markdown",
      "metadata": {
        "id": "-oeDGjoVb2hA"
      },
      "source": [
        "Осталось все равно слишком много пользователей.\n",
        "\n",
        "### 7. Удалите из таблицы всех юзеров, у которых количество просмотров меньше медианного значения. То есть мы удалим половину юзеров.\n",
        "\n",
        "Так как они посмотрели слишком мало, чтобы мы на них могли основывать свои советы."
      ]
    },
    {
      "cell_type": "code",
      "execution_count": null,
      "metadata": {
        "id": "8Z1mmi1vb2hB",
        "colab": {
          "base_uri": "https://localhost:8080/"
        },
        "outputId": "57636295-54eb-4219-b007-49c1456160ce"
      },
      "outputs": [
        {
          "output_type": "stream",
          "name": "stdout",
          "text": [
            "Среднее количество просмотренных тайтлов: 180.0\n",
            "Размер датасета после фильтрации: (2914542, 3)\n",
            "     user_id  anime_id  rating\n",
            "97         5         6       8\n",
            "98         5        15       6\n",
            "99         5        17       6\n",
            "100        5        18       6\n",
            "101        5        20       6\n"
          ]
        }
      ],
      "source": [
        "median_reviews = ratings_filtered['count_reviews'].median()\n",
        "print(f\"Среднее количество просмотренных тайтлов: {median_reviews}\")\n",
        "ratings_median_filtered = ratings_filtered[ratings_filtered['count_reviews'] >= median_reviews]\n",
        "ratings_final = ratings_median_filtered.drop(columns=['count_reviews'])\n",
        "print(f\"Размер датасета после фильтрации: {ratings_final.shape}\")\n",
        "print(ratings_final.head())"
      ]
    },
    {
      "cell_type": "markdown",
      "metadata": {
        "id": "pM5IUARab2hG"
      },
      "source": [
        "Теперь рассмотрим таблицу `anime`.\n",
        "\n",
        "\n",
        "Так же применим критерий шавене.\n",
        "\n",
        "Искать выбросы стоит по столбцу `rating` или по `members` или по обоим сразу.\n",
        "\n",
        "### 8. Используйте функцию chauvenet и найдите все выбросы среди аниме. И удалите их.\n",
        "\n",
        "**Hint** Используйте [drop](https://pandas.pydata.org/pandas-docs/stable/reference/api/pandas.DataFrame.drop.html) и [index](https://pandas.pydata.org/pandas-docs/stable/reference/api/pandas.DataFrame.index.html)"
      ]
    },
    {
      "cell_type": "code",
      "execution_count": null,
      "metadata": {
        "id": "yRMPTUkib2hH",
        "colab": {
          "base_uri": "https://localhost:8080/"
        },
        "outputId": "2737c547-94b7-4a69-ae46-ff92afa3c1e2"
      },
      "outputs": [
        {
          "output_type": "stream",
          "name": "stdout",
          "text": [
            "Размер исходной таблицы: (12017, 6)\n",
            "Размер таблицы после удаления выбросов: (11867, 6)\n"
          ]
        }
      ],
      "source": [
        "mask_rating = chauvenet(anime['rating'].values)\n",
        "mask_members = chauvenet(anime['members'].values)\n",
        "combined_mask = mask_rating & mask_members\n",
        "outlier_anime_indices = anime[~combined_mask].index\n",
        "anime_cleaned = anime.drop(index=outlier_anime_indices)\n",
        "print(f\"Размер исходной таблицы: {anime.shape}\")\n",
        "print(f\"Размер таблицы после удаления выбросов: {anime_cleaned.shape}\")\n"
      ]
    },
    {
      "cell_type": "markdown",
      "metadata": {
        "id": "MPL12FNQb2hK"
      },
      "source": [
        "### 9. Ответье на вопросы\n",
        "\n",
        "#### Что критерий посчитал выбросом?\n",
        "Критерий Шавене посчитал выбросами те аниме, которые имеют аномально высокие или низкие значения по столбцам rating или members. Такие значения статистически отклоняются от среднего распределения данных.\n",
        "\n",
        "#### Почему критерий посчитал их выбросом?\n",
        "Эти аниме выбиваются из общего распределения из-за:\n",
        "Слишком высокой или слишком низкой популярности.\n",
        "Чрезмерно высоких или низких оценок по сравнению с большинством аниме.\n",
        "\n",
        "#### Можем ли мы как то использовать эти аниме в нашей рекомендательное системе?\n",
        " Аниме с необычно высокими рейтингами можно использовать для создания подборок (\"лучшее из лучших\").\n",
        " Аниме с высоким количеством участников могут подойти для рекомендаций новым пользователям, которые только начинают знакомство с жанром."
      ]
    },
    {
      "cell_type": "markdown",
      "metadata": {
        "id": "-MCsZX8rb2hL"
      },
      "source": [
        "## Кластеризация по жанрам"
      ]
    },
    {
      "cell_type": "markdown",
      "metadata": {
        "id": "Oa6hsGvs6Plt"
      },
      "source": [
        "### 10. Создадим новую таблицу, где в колонках будет жанр, в строках аниме, а в ячейках 1 если у фильма есть этот жанр и 0 в противном случае.\n",
        "\n",
        "Такой формат таблиц называтеся one-hot-encoding. Только в нашем случае в каждой строке будет не одна единица, а несколько, так как у аниме как правило несолько жанров.\n",
        "\n",
        "Уточнение: жанры должны быть индексами столбцов (columns), а id аниме - индексами строк (index)"
      ]
    },
    {
      "cell_type": "code",
      "execution_count": null,
      "metadata": {
        "id": "f4kWGYLva1OI",
        "tags": [],
        "colab": {
          "base_uri": "https://localhost:8080/"
        },
        "outputId": "ca7c6e2d-1301-4ee5-f484-ff80b7726110"
      },
      "outputs": [
        {
          "output_type": "stream",
          "name": "stdout",
          "text": [
            "Пример уникальных комбинаций жанров: ['Drama, Romance, School, Supernatural'\n",
            " 'Action, Adventure, Drama, Fantasy, Magic, Military, Shounen'\n",
            " 'Action, Comedy, Historical, Parody, Samurai, Sci-Fi, Shounen'\n",
            " 'Sci-Fi, Thriller' 'Comedy, Drama, School, Shounen, Sports']\n",
            "Всего уникальных жанров: 43\n",
            "          Psychological  Horror  Sports  Music  Demons  Yaoi  Drama  Magic  \\\n",
            "anime_id                                                                     \n",
            "32281                 0       0       0      0       0     0      1      0   \n",
            "5114                  0       0       0      0       0     0      1      1   \n",
            "28977                 0       0       0      0       0     0      0      0   \n",
            "9253                  0       0       0      0       0     0      0      0   \n",
            "9969                  0       0       0      0       0     0      0      0   \n",
            "\n",
            "          Mecha  Yuri  ...  Romance  School  Shoujo  Comedy  Hentai  Military  \\\n",
            "anime_id               ...                                                      \n",
            "32281         0     0  ...        1       1       0       0       0         0   \n",
            "5114          0     0  ...        0       0       0       0       0         1   \n",
            "28977         0     0  ...        0       0       0       1       0         0   \n",
            "9253          0     0  ...        0       0       0       0       0         0   \n",
            "9969          0     0  ...        0       0       0       1       0         0   \n",
            "\n",
            "          Parody  Mystery  Action  Martial Arts  \n",
            "anime_id                                         \n",
            "32281          0        0       0             0  \n",
            "5114           0        0       1             0  \n",
            "28977          1        0       1             0  \n",
            "9253           0        0       0             0  \n",
            "9969           1        0       1             0  \n",
            "\n",
            "[5 rows x 43 columns]\n"
          ]
        }
      ],
      "source": [
        "def flatmap(f, items):\n",
        "    return chain.from_iterable(map(f, items))\n",
        "\n",
        "def genre_splitter(genre_names):\n",
        "    return genre_names.split(\", \")\n",
        "\n",
        "m_uniq = anime['genre'].unique()\n",
        "print(f\"Уникальные жанры: {m_uniq[:5]}\")\n",
        "unique_genres = set(flatmap(genre_splitter, m_uniq))\n",
        "print(f\"Всего уникальных жанров: {len(unique_genres)}\")\n",
        "genres = list(unique_genres)\n",
        "genre_matrix = pd.DataFrame(0, index=anime.index, columns=genres)\n",
        "\n",
        "for idx, row in anime.iterrows():\n",
        "    if pd.notna(row['genre']):\n",
        "        for genre in genre_splitter(row['genre']):\n",
        "            genre_matrix.at[idx, genre] = 1\n",
        "\n",
        "genre_matrix.index = anime.index\n",
        "print(genre_matrix.head())\n"
      ]
    },
    {
      "cell_type": "markdown",
      "metadata": {
        "id": "r33UeY26a1OL"
      },
      "source": [
        "Итак, у нас есть следующие таблицы:\n",
        "- Жанры аниме - в строчках аниме, в столбцах жанр аниме, а в ячейках 0 или 1.\n",
        "- Рейтинги - в строчках пользователи, в столбцах id аниме и рейтинг\n",
        "\n",
        "Нужно получить другую таблицу, в которой в строках будут пользователи, а в столбцах жанры аниме. А в ячейках средняя оценка жанра этим пользователем.\n",
        "\n",
        "Средняя оценка жанра вычисляется следующим образом: берём все отзывы пользователя. Группируем все его отзывы по жанрам и считаем средний рейтинг, который он ставит аниме с данным жанром.\n",
        "\n",
        "Выполним следущие шаги.\n",
        "\n",
        "### 11. Соединим две таблицы:<br>\n",
        "1. жанры по каждому аниме<br>\n",
        "2. оценки аниме от людей. Кстати, один человек мог посмотреть 1 аниме или 100, но не все!<br>\n",
        "\n",
        "Получим таблицу, где строк будет N*M штук, где N - количество юзеров и M - количество аниме"
      ]
    },
    {
      "cell_type": "code",
      "execution_count": null,
      "metadata": {
        "id": "-UZ89H8ra1OM",
        "colab": {
          "base_uri": "https://localhost:8080/"
        },
        "outputId": "2502e00c-8801-4749-da0b-bd9662dd685e"
      },
      "outputs": [
        {
          "output_type": "stream",
          "name": "stdout",
          "text": [
            "Итоговая таблица (пример данных):\n",
            "         Psychological  Horror  Sports  Music  Demons  Yaoi  Drama  Magic  \\\n",
            "user_id                                                                     \n",
            "1                  0.0     2.5     0.0    0.0     5.0   0.0    0.0    0.0   \n",
            "2                  0.0     0.0    10.0    0.0     0.0   0.0    0.0    0.0   \n",
            "3                  0.8     0.6     0.9    0.0     0.3   0.0    2.5    1.2   \n",
            "5                  0.1     0.1     0.5    0.1     0.2   0.0    0.9    0.3   \n",
            "7                  0.6     0.2     0.3    0.1     0.5   0.0    1.1    0.9   \n",
            "\n",
            "         Mecha  Yuri  ...  Romance  School  Shoujo  Comedy  Hentai  Military  \\\n",
            "user_id               ...                                                      \n",
            "1          0.0   0.0  ...      7.5     5.0     0.0     5.0     0.0       0.0   \n",
            "2          0.0   0.0  ...      0.0    10.0     0.0    10.0     0.0       0.0   \n",
            "3          0.1   0.0  ...      0.7     1.1     0.1     3.2     0.0       0.3   \n",
            "5          0.0   0.0  ...      1.0     1.1     0.0     2.9     0.0       0.0   \n",
            "7          0.5   0.0  ...      2.7     2.4     0.2     4.2     0.0       0.2   \n",
            "\n",
            "         Parody  Mystery  Action  Martial Arts  \n",
            "user_id                                         \n",
            "1           0.0      0.0     7.5           0.0  \n",
            "2           0.0      0.0     0.0           0.0  \n",
            "3           0.0      0.8     4.9           0.3  \n",
            "5           0.2      0.2     1.6           0.2  \n",
            "7           0.4      0.6     2.7           0.1  \n",
            "\n",
            "[5 rows x 43 columns]\n",
            "Таблица с пользователями и средними оценками жанров сохранена в файл 'user_genre_matrix.csv'\n"
          ]
        }
      ],
      "source": [
        "ratings_cleaned = ratings[ratings['rating'] != -1]\n",
        "ratings_with_genres = ratings_cleaned.merge(genre_matrix, left_on='anime_id', right_index=True, how='inner')\n",
        "\n",
        "for genre in genre_matrix.columns:\n",
        "    ratings_with_genres[genre] = ratings_with_genres['rating'] * ratings_with_genres[genre]\n",
        "\n",
        "user_genre_matrix = ratings_with_genres.groupby('user_id')[genre_matrix.columns].mean()\n",
        "user_genre_matrix = user_genre_matrix.round(1)\n",
        "print(\"Итоговая таблица:\")\n",
        "print(user_genre_matrix.head(5))"
      ]
    },
    {
      "cell_type": "markdown",
      "metadata": {
        "id": "nd5AyQk7a1OP"
      },
      "source": [
        "С такой таблицей `(N*M) * G` мы всё еще не можем работать.  \n",
        "### 12. Сгруппируем строки по пользователям (колонка `userId`).  В группах посчитаем среднюю оценку на жанр. А если пользователь не смотрел фильм, то поставим ему `-1` в соответсвующую ячейку.\n",
        "Чтобы посчитать среднее(mean) без учета непросмотренных аниме замените все `0` на `np.NaN`"
      ]
    },
    {
      "cell_type": "code",
      "execution_count": null,
      "metadata": {
        "id": "NZUl41QBa1OP",
        "tags": [],
        "colab": {
          "base_uri": "https://localhost:8080/"
        },
        "outputId": "27ec5280-705f-4b25-af7d-eadcb2ca653c"
      },
      "outputs": [
        {
          "output_type": "stream",
          "name": "stdout",
          "text": [
            "После замены 0 на NaN:\n",
            "         Psychological  Horror  Sports  Music  Demons  Yaoi  Drama  Magic  \\\n",
            "user_id                                                                     \n",
            "1                  NaN     2.5     NaN    NaN     5.0   NaN    NaN    NaN   \n",
            "2                  NaN     NaN    10.0    NaN     NaN   NaN    NaN    NaN   \n",
            "3                  0.8     0.6     0.9    NaN     0.3   NaN    2.5    1.2   \n",
            "5                  0.1     0.1     0.5    0.1     0.2   NaN    0.9    0.3   \n",
            "7                  0.6     0.2     0.3    0.1     0.5   NaN    1.1    0.9   \n",
            "\n",
            "         Mecha  Yuri  ...  Romance  School  Shoujo  Comedy  Hentai  Military  \\\n",
            "user_id               ...                                                      \n",
            "1          NaN   NaN  ...      7.5     5.0     NaN     5.0     NaN       NaN   \n",
            "2          NaN   NaN  ...      NaN    10.0     NaN    10.0     NaN       NaN   \n",
            "3          0.1   NaN  ...      0.7     1.1     0.1     3.2     NaN       0.3   \n",
            "5          NaN   NaN  ...      1.0     1.1     NaN     2.9     NaN       NaN   \n",
            "7          0.5   NaN  ...      2.7     2.4     0.2     4.2     NaN       0.2   \n",
            "\n",
            "         Parody  Mystery  Action  Martial Arts  \n",
            "user_id                                         \n",
            "1           NaN      NaN     7.5           NaN  \n",
            "2           NaN      NaN     NaN           NaN  \n",
            "3           NaN      0.8     4.9           0.3  \n",
            "5           0.2      0.2     1.6           0.2  \n",
            "7           0.4      0.6     2.7           0.1  \n",
            "\n",
            "[5 rows x 43 columns]\n"
          ]
        }
      ],
      "source": [
        "user_genre_matrix = user_genre_matrix.replace(0, np.NaN)\n",
        "print(\"После замены 0 на NaN:\")\n",
        "print(user_genre_matrix.head())\n",
        "user_genre_matrix_mean = user_genre_matrix.mean()\n"
      ]
    },
    {
      "cell_type": "markdown",
      "metadata": {
        "id": "FQ9UuFn0b2hX"
      },
      "source": [
        "Так как некоторые пользователи не смотрели ничего из некоторых жанров, в данных осталось много `np.NaN`\n",
        "### 13. Заполните все NaN на -1\n",
        "\n",
        "**Hint** [fillna](https://pandas.pydata.org/pandas-docs/stable/reference/api/pandas.DataFrame.fillna.html)"
      ]
    },
    {
      "cell_type": "code",
      "execution_count": null,
      "metadata": {
        "id": "uDoXl9XFb2hY",
        "tags": [],
        "colab": {
          "base_uri": "https://localhost:8080/"
        },
        "outputId": "5e9e6312-28c5-4d57-dc39-02d76b51bf6c"
      },
      "outputs": [
        {
          "output_type": "stream",
          "name": "stdout",
          "text": [
            "После заполнения NaN значениями -1:\n",
            "         Psychological  Horror  Sports  Music  Demons  Yaoi  Drama  Magic  \\\n",
            "user_id                                                                     \n",
            "1                 -1.0     2.5    -1.0   -1.0     5.0  -1.0   -1.0   -1.0   \n",
            "2                 -1.0    -1.0    10.0   -1.0    -1.0  -1.0   -1.0   -1.0   \n",
            "3                  0.8     0.6     0.9   -1.0     0.3  -1.0    2.5    1.2   \n",
            "5                  0.1     0.1     0.5    0.1     0.2  -1.0    0.9    0.3   \n",
            "7                  0.6     0.2     0.3    0.1     0.5  -1.0    1.1    0.9   \n",
            "\n",
            "         Mecha  Yuri  ...  Romance  School  Shoujo  Comedy  Hentai  Military  \\\n",
            "user_id               ...                                                      \n",
            "1         -1.0  -1.0  ...      7.5     5.0    -1.0     5.0    -1.0      -1.0   \n",
            "2         -1.0  -1.0  ...     -1.0    10.0    -1.0    10.0    -1.0      -1.0   \n",
            "3          0.1  -1.0  ...      0.7     1.1     0.1     3.2    -1.0       0.3   \n",
            "5         -1.0  -1.0  ...      1.0     1.1    -1.0     2.9    -1.0      -1.0   \n",
            "7          0.5  -1.0  ...      2.7     2.4     0.2     4.2    -1.0       0.2   \n",
            "\n",
            "         Parody  Mystery  Action  Martial Arts  \n",
            "user_id                                         \n",
            "1          -1.0     -1.0     7.5          -1.0  \n",
            "2          -1.0     -1.0    -1.0          -1.0  \n",
            "3          -1.0      0.8     4.9           0.3  \n",
            "5           0.2      0.2     1.6           0.2  \n",
            "7           0.4      0.6     2.7           0.1  \n",
            "\n",
            "[5 rows x 43 columns]\n",
            "Таблица сохранена в файл 'user_genre_matrix_final.csv'\n"
          ]
        }
      ],
      "source": [
        "user_genre_matrix_filled = user_genre_matrix.fillna(-1)\n",
        "print(\"После заполнения NaN значениями -1:\")\n",
        "print(user_genre_matrix_filled.head())"
      ]
    },
    {
      "cell_type": "markdown",
      "metadata": {
        "id": "1wo_Sod-a1OT"
      },
      "source": [
        "Прежде чем начать обучать kMeans...\n",
        "\n",
        "### 14. Отмасштабируйте признаки.\n",
        "\n",
        "Как мы знаем по лекции, метрическим алгоритмам, одним из которых и является kMeans, лучше подавать на вход данные одного масштаба.  Этим и занимается метод MinMaxScaler из sklearn.\n",
        "\n",
        "[Документация](https://scikit-learn.org/stable/modules/generated/sklearn.preprocessing.MinMaxScaler.html)\n",
        "\n",
        "Алгоритм его работы:\n",
        "```\n",
        "X_std = (X - X.min(axis=0)) / (X.max(axis=0) - X.min(axis=0))\n",
        "X_scaled = X_std * (max - min) + min\n",
        "```"
      ]
    },
    {
      "cell_type": "code",
      "execution_count": null,
      "metadata": {
        "id": "YOjZgEy1a1OU",
        "colab": {
          "base_uri": "https://localhost:8080/"
        },
        "outputId": "a8599204-0d3e-4b55-bf2b-503358e55a17"
      },
      "outputs": [
        {
          "output_type": "stream",
          "name": "stdout",
          "text": [
            "Пример масштабированных данных:\n",
            "         Psychological    Horror    Sports  Music    Demons  Yaoi     Drama  \\\n",
            "user_id                                                                       \n",
            "1             0.000000  0.318182  0.000000    0.0  0.545455   0.0  0.000000   \n",
            "2             0.000000  0.000000  1.000000    0.0  0.000000   0.0  0.000000   \n",
            "3             0.163636  0.145455  0.172727    0.0  0.118182   0.0  0.318182   \n",
            "5             0.100000  0.100000  0.136364    0.1  0.109091   0.0  0.172727   \n",
            "7             0.145455  0.109091  0.118182    0.1  0.136364   0.0  0.190909   \n",
            "\n",
            "            Magic     Mecha  Yuri  ...   Romance    School    Shoujo  \\\n",
            "user_id                            ...                                 \n",
            "1        0.000000  0.000000   0.0  ...  0.772727  0.545455  0.000000   \n",
            "2        0.000000  0.000000   0.0  ...  0.000000  1.000000  0.000000   \n",
            "3        0.200000  0.100000   0.0  ...  0.154545  0.190909  0.100000   \n",
            "5        0.118182  0.000000   0.0  ...  0.181818  0.190909  0.000000   \n",
            "7        0.172727  0.136364   0.0  ...  0.336364  0.309091  0.109091   \n",
            "\n",
            "           Comedy  Hentai  Military    Parody   Mystery    Action  \\\n",
            "user_id                                                             \n",
            "1        0.545455     0.0  0.000000  0.000000  0.000000  0.772727   \n",
            "2        1.000000     0.0  0.000000  0.000000  0.000000  0.000000   \n",
            "3        0.381818     0.0  0.118182  0.000000  0.163636  0.536364   \n",
            "5        0.354545     0.0  0.000000  0.109091  0.109091  0.236364   \n",
            "7        0.472727     0.0  0.109091  0.127273  0.145455  0.336364   \n",
            "\n",
            "         Martial Arts  \n",
            "user_id                \n",
            "1            0.000000  \n",
            "2            0.000000  \n",
            "3            0.118182  \n",
            "5            0.109091  \n",
            "7            0.100000  \n",
            "\n",
            "[5 rows x 43 columns]\n",
            "Масштабированная таблица сохранена в файл 'user_genre_matrix_scaled.csv'\n"
          ]
        }
      ],
      "source": [
        "scaler = MinMaxScaler()\n",
        "user_genre_matrix_scaled = pd.DataFrame(\n",
        "    scaler.fit_transform(user_genre_matrix_filled),\n",
        "    columns=user_genre_matrix_filled.columns,\n",
        "    index=user_genre_matrix_filled.index\n",
        ")\n",
        "print(\"Масштабированние данных:\")\n",
        "print(user_genre_matrix_scaled.head())"
      ]
    },
    {
      "cell_type": "markdown",
      "metadata": {
        "id": "FtnFeq5--WYV"
      },
      "source": [
        "### 15.Натренируйте kMeans с 10 кластерами на полученных данных"
      ]
    },
    {
      "cell_type": "code",
      "execution_count": null,
      "metadata": {
        "id": "5P8wbyKs-2ss",
        "colab": {
          "base_uri": "https://localhost:8080/"
        },
        "outputId": "92dd66a5-99d5-445c-9e30-7e5469041b93"
      },
      "outputs": [
        {
          "output_type": "stream",
          "name": "stdout",
          "text": [
            "Пример данных с кластеризацией:\n",
            "         Psychological    Horror    Sports  Music    Demons  Yaoi     Drama  \\\n",
            "user_id                                                                       \n",
            "1             0.000000  0.318182  0.000000    0.0  0.545455   0.0  0.000000   \n",
            "2             0.000000  0.000000  1.000000    0.0  0.000000   0.0  0.000000   \n",
            "3             0.163636  0.145455  0.172727    0.0  0.118182   0.0  0.318182   \n",
            "5             0.100000  0.100000  0.136364    0.1  0.109091   0.0  0.172727   \n",
            "7             0.145455  0.109091  0.118182    0.1  0.136364   0.0  0.190909   \n",
            "\n",
            "            Magic     Mecha  Yuri  ...    School    Shoujo    Comedy  Hentai  \\\n",
            "user_id                            ...                                         \n",
            "1        0.000000  0.000000   0.0  ...  0.545455  0.000000  0.545455     0.0   \n",
            "2        0.000000  0.000000   0.0  ...  1.000000  0.000000  1.000000     0.0   \n",
            "3        0.200000  0.100000   0.0  ...  0.190909  0.100000  0.381818     0.0   \n",
            "5        0.118182  0.000000   0.0  ...  0.190909  0.000000  0.354545     0.0   \n",
            "7        0.172727  0.136364   0.0  ...  0.309091  0.109091  0.472727     0.0   \n",
            "\n",
            "         Military    Parody   Mystery    Action  Martial Arts  cluster  \n",
            "user_id                                                                 \n",
            "1        0.000000  0.000000  0.000000  0.772727      0.000000        5  \n",
            "2        0.000000  0.000000  0.000000  0.000000      0.000000        4  \n",
            "3        0.118182  0.000000  0.163636  0.536364      0.118182        0  \n",
            "5        0.000000  0.109091  0.109091  0.236364      0.109091        3  \n",
            "7        0.109091  0.127273  0.145455  0.336364      0.100000        3  \n",
            "\n",
            "[5 rows x 44 columns]\n",
            "Модель KMeans обучена. Результаты сохранены в файл 'user_genre_matrix_with_clusters.csv'\n"
          ]
        }
      ],
      "source": [
        "n_clusters = 10\n",
        "kmeans = KMeans(n_clusters=n_clusters, random_state=42)\n",
        "kmeans.fit(user_genre_matrix_scaled)\n",
        "user_clusters = kmeans.predict(user_genre_matrix_scaled)\n",
        "user_genre_matrix_scaled['cluster'] = user_clusters\n",
        "print(\"Данные с кластеризацией:\")\n",
        "print(user_genre_matrix_scaled.head())\n"
      ]
    },
    {
      "cell_type": "markdown",
      "metadata": {
        "id": "V9Pn5DMHa1OX"
      },
      "source": [
        "### 16. Нарисуйте на графике центры кластеров нашего датасета оценок фильмов.\n",
        "\n",
        "В нем будет 10 строчек - 10 кластеров. И 43 столбцов - 43 жанров фильмов.\n",
        "\n",
        "Из графика мы поймем какие жанры обычно смотрят вместе. По сути мы получили кластеры предпочтений людей.\n",
        "\n",
        "**Hint** [Heatmap](https://seaborn.pydata.org/generated/seaborn.heatmap.html)"
      ]
    },
    {
      "cell_type": "code",
      "execution_count": null,
      "metadata": {
        "id": "FyGW-7-6a1OY",
        "tags": [],
        "colab": {
          "base_uri": "https://localhost:8080/",
          "height": 1000
        },
        "outputId": "5f1c19cf-e220-456c-fef3-333583ec8c89"
      },
      "outputs": [
        {
          "output_type": "display_data",
          "data": {
            "text/plain": [
              "<Figure size 1500x1000 with 2 Axes>"
            ],
            "image/png": "[encoded data removed]"
          },
          "metadata": {}
        }
      ],
      "source": [
        "cluster_centers = pd.DataFrame(\n",
        "    kmeans.cluster_centers_,\n",
        "    columns=user_genre_matrix_scaled.columns[:-1]\n",
        ")\n",
        "\n",
        "plt.figure(figsize=(15, 10))\n",
        "\n",
        "sns.heatmap(cluster_centers, annot=False, cmap=\"coolwarm\", xticklabels=True, yticklabels=[f\"Cluster {i}\" for i in range(10)])\n",
        "\n",
        "plt.title(\"Кластеры предпочтений\", fontsize=16)\n",
        "plt.xlabel(\"Жанры аниме\", fontsize=12)\n",
        "plt.ylabel(\"Кластеры\", fontsize=12)\n",
        "plt.tight_layout()\n",
        "plt.show()\n"
      ]
    },
    {
      "cell_type": "markdown",
      "metadata": {
        "id": "f8kEhXm4b2hg"
      },
      "source": [
        "# Как выбрать нужное число кластеров\n",
        "\n",
        "Такие методы как KMeans, Spectral clustering, Ward hierarchical clustering, Agglomerative clustering требуют количество кластеров как параметр. Это так называемый гипер-параметр, и его должен подбирать человек. Но на что человеку опираться при выборе? На некоторый функционал \"качества\"!\n",
        "\n",
        "Вспомним идею кластеризации:\n",
        "- минимизация внутрикластерного расстояния\n",
        "- максимизация межкластерного расстояния\n",
        "\n",
        "Другими словами - кучки кучнее и дальше друг от друга.\n",
        "\n",
        "Логично, что мы хотим, чтобы точки распологались кучно возле центров своих кластеров. Но вот незадача: минимум такого функционала будет достигаться тогда, когда кластеров столько же, сколько и точек (то есть каждая точка – это кластер из одного элемента). Для решения этого вопроса (выбора числа кластеров) часто пользуются такой эвристикой: выбирают то число кластеров, начиная с которого описанный функционал $ J(C) $ падает \"уже не так быстро\". Или более формально: $$ D(k) = \\frac{|J(C_k) - J(C_{k+1})|}{|J(C_{k-1}) - J(C_k)|}  \\rightarrow \\min\\limits_k $$\n",
        "\n",
        "Где, в случае kMeans $$ J(C) = \\sum_{k=1}^K\\sum_{i~\\in~C_k} ||x_i - \\mu_k|| \\rightarrow \\min\\limits_C,$$ - сумма квадратов расстояний от точек до центроидов кластеров, к которым они относятся\n",
        "\n",
        "#### Эта ячейка может выполнятся долго!"
      ]
    },
    {
      "cell_type": "code",
      "execution_count": null,
      "metadata": {
        "id": "DuTFue0rb2hg"
      },
      "outputs": [],
      "source": [
        "inertia = []\n",
        "N = 30\n",
        "for k in tqdm(range(1, N)):\n",
        "    kmeans = KMeans(n_clusters=k).fit(scaler.fit_transform(df))\n",
        "    inertia.append(np.sqrt(kmeans.inertia_))\n",
        "plt.figure(figsize=(10,7))\n",
        "plt.plot(range(1, N), inertia, marker='s');\n",
        "plt.xlabel('$k$')\n",
        "plt.ylabel('$J(C_k)$')"
      ]
    },
    {
      "cell_type": "markdown",
      "metadata": {
        "id": "ulciRrtRb2hi"
      },
      "source": [
        "## Коэффициент силуэта\n",
        "\n",
        "Данный коэффициент не предполагает знания истинных меток объектов, и позволяет оценить качество кластеризации, используя только саму (неразмеченную) выборку и результат кластеризации.\n",
        "\n",
        "Сначала силуэт определяется отдельно для каждого объекта. Обозначим через $a$ - среднее расстояние от данного объекта до объектов из того же кластера, через $b$ - среднее расстояние от данного объекта до объектов из ближайшего кластера (отличного от того, в котором лежит сам объект). Тогда силуэтом данного объекта называется величина: $$s = \\frac{b - a}{\\max(a, b)}.$$ Силуэтом выборки называется средняя величина силуэта объектов данной выборки. Таким образом, силуэт показывает, насколько среднее расстояние до объектов своего кластера отличается от среднего расстояния до объектов других кластеров. Данная величина лежит в диапазоне $[-1, 1]$. Значения, близкие к -1, соответствуют плохим (разрозненным) кластеризациям, значения, близкие к нулю, говорят о том, что кластеры пересекаются и накладываются друг на друга, значения, близкие к 1, соответствуют \"плотным\" четко выделенным кластерам. Таким образом, чем больше силуэт, тем более четко выделены кластеры, и они представляют собой компактные, плотно сгруппированные облака точек.\n",
        "\n",
        "С помощью силуэта можно выбирать оптимальное число кластеров $k$ (если оно заранее неизвестно) - выбирается число кластеров, максимизирующее значение силуэта. В отличие от предыдущих метрик, силуэт зависит от формы кластеров, и достигает больших значений на более выпуклых кластерах, получаемых с помощью алгоритмов, основанных на восстановлении плотности распределения.\n",
        "\n",
        "#### Эта ячейка может выполняться долго!"
      ]
    },
    {
      "cell_type": "code",
      "execution_count": null,
      "metadata": {
        "id": "BkFhvnhO3TIl"
      },
      "outputs": [],
      "source": [
        "def draw_sil_score(X, range_n_clusters=[2, 3, 4, 5, 6, 10, 12, 13, 20]):\n",
        "    scores = []\n",
        "    for n_clusters in tqdm(range_n_clusters):\n",
        "        clusterer = KMeans(n_clusters=n_clusters, random_state=10)\n",
        "        cluster_labels = clusterer.fit_predict(X)\n",
        "        silhouette_avg = silhouette_score(X, cluster_labels)\n",
        "        scores.append(silhouette_avg)\n",
        "    plt.plot(range_n_clusters, scores)\n",
        "    return range_n_clusters[np.argmax(scores)]"
      ]
    },
    {
      "cell_type": "code",
      "execution_count": null,
      "metadata": {
        "id": "qZXMiFpW3VVN",
        "tags": []
      },
      "outputs": [],
      "source": [
        "draw_sil_score(scaler.fit_transform(df), range(2, 30))"
      ]
    },
    {
      "cell_type": "markdown",
      "metadata": {
        "id": "DE6UbyzUb2hn"
      },
      "source": [
        "### 17. Выберите количество кластеров `k` по методам выше. Натренируйте kMeans и снова нарисуйте heatmap."
      ]
    },
    {
      "cell_type": "code",
      "execution_count": null,
      "metadata": {
        "id": "2Brw66Ylb2hn",
        "tags": [],
        "colab": {
          "base_uri": "https://localhost:8080/",
          "height": 581
        },
        "outputId": "91432e7a-3815-4471-d4f4-a0d6fc827429"
      },
      "outputs": [
        {
          "output_type": "stream",
          "name": "stderr",
          "text": [
            "100%|██████████| 29/29 [00:17<00:00,  1.61it/s]\n"
          ]
        },
        {
          "output_type": "display_data",
          "data": {
            "text/plain": [
              "<Figure size 1000x600 with 1 Axes>"
            ],
            "image/png": "[encoded data removed]"
          },
          "metadata": {}
        }
      ],
      "source": [
        "N = 30\n",
        "inertia = []\n",
        "\n",
        "for k in tqdm(range(1, N)):\n",
        "    kmeans = KMeans(n_clusters=k, random_state=42)\n",
        "    kmeans.fit(user_genre_matrix_scaled)\n",
        "    inertia.append(kmeans.inertia_)\n",
        "\n",
        "plt.figure(figsize=(10, 6))\n",
        "plt.plot(range(1, N), inertia, marker='s')\n",
        "plt.xlabel(\"Количество кластеров (k)\")\n",
        "plt.ylabel(\"Инерция\")\n",
        "plt.title(\"Первый метод\")\n",
        "plt.show()\n"
      ]
    },
    {
      "cell_type": "code",
      "execution_count": null,
      "metadata": {
        "colab": {
          "base_uri": "https://localhost:8080/",
          "height": 599
        },
        "id": "ck9Ek0JJz7GO",
        "outputId": "c5b27a2d-6756-42a2-9a6b-f730d8d59142"
      },
      "outputs": [
        {
          "output_type": "stream",
          "name": "stderr",
          "text": [
            "100%|██████████| 29/29 [32:06<00:00, 66.43s/it]\n"
          ]
        },
        {
          "output_type": "display_data",
          "data": {
            "text/plain": [
              "<Figure size 1000x600 with 1 Axes>"
            ],
            "image/png": "[encoded data removed]"
          },
          "metadata": {}
        },
        {
          "output_type": "stream",
          "name": "stdout",
          "text": [
            "Оптимальное количество кластеров: 2\n"
          ]
        }
      ],
      "source": [
        "range_n_clusters = range(2, 31)\n",
        "silhouette_scores = []\n",
        "\n",
        "for n_clusters in tqdm(range_n_clusters):\n",
        "    kmeans = KMeans(n_clusters=n_clusters, random_state=42)\n",
        "    cluster_labels = kmeans.fit_predict(user_genre_matrix_scaled)\n",
        "    silhouette_avg = silhouette_score(user_genre_matrix_scaled, cluster_labels)\n",
        "    silhouette_scores.append(silhouette_avg)\n",
        "\n",
        "plt.figure(figsize=(10, 6))\n",
        "plt.plot(range_n_clusters, silhouette_scores, marker='o')\n",
        "plt.xlabel(\"Количество кластеров (k)\")\n",
        "plt.ylabel(\"Средний коэффициент силуэта\")\n",
        "plt.title(\"Коэффициент силуэта\")\n",
        "plt.show()\n",
        "\n",
        "optimal_k = range_n_clusters[silhouette_scores.index(max(silhouette_scores))]\n",
        "print(f\"Оптимальное количество кластеров: {optimal_k}\")\n"
      ]
    },
    {
      "cell_type": "code",
      "execution_count": null,
      "metadata": {
        "colab": {
          "base_uri": "https://localhost:8080/",
          "height": 1000
        },
        "id": "r3LOyK7Qz72v",
        "outputId": "0d41c693-db7c-4272-e4ae-137a61b9e8aa"
      },
      "outputs": [
        {
          "output_type": "display_data",
          "data": {
            "text/plain": [
              "<Figure size 1500x1000 with 2 Axes>"
            ],
            "image/png": "[encoded data removed]"
          },
          "metadata": {}
        }
      ],
      "source": [
        "if 'cluster' in user_genre_matrix_scaled.columns:\n",
        "    user_genre_matrix_scaled = user_genre_matrix_scaled.drop(columns=['cluster'])\n",
        "\n",
        "kmeans_optimal = KMeans(n_clusters=optimal_k, random_state=42)\n",
        "kmeans_optimal.fit(user_genre_matrix_scaled)\n",
        "\n",
        "optimal_cluster_centers = pd.DataFrame(\n",
        "    kmeans_optimal.cluster_centers_,\n",
        "    columns=user_genre_matrix_scaled.columns\n",
        ")\n",
        "\n",
        "plt.figure(figsize=(15, 10))\n",
        "sns.heatmap(\n",
        "    optimal_cluster_centers,\n",
        "    annot=True,\n",
        "    fmt=\".1f\",\n",
        "    cmap=\"coolwarm\",\n",
        "    xticklabels=True,\n",
        "    yticklabels=[f\"Cluster {i}\" for i in range(optimal_k)]\n",
        ")\n",
        "\n",
        "plt.title(\"Центры кластеров предпочтений пользователей\")\n",
        "plt.xlabel(\"Жанры аниме\")\n",
        "plt.ylabel(\"Кластеры\")\n",
        "plt.tight_layout()\n",
        "plt.show()\n"
      ]
    },
    {
      "cell_type": "markdown",
      "metadata": {
        "id": "EidQaCQOb2hp"
      },
      "source": [
        "### 18. Порекомендуйте что-нибудь абстрактному пользователю.\n",
        "Это можно сделать разными способами. Как это сделать подумайте сами.\n",
        "\n",
        "Если затрудняетесь реализовать это в коде, распишите словами как вы бы это сделали.\n",
        "\n",
        "Возможные варианты решения:\n",
        " * в каждом кластере отсортировать жанры по тому, насколько жанр важен.\n",
        " * взять каждый кластер -> получить все аниме, которые смотрят в этом кластере -> отсортировать по рейтину.\n",
        "\n"
      ]
    },
    {
      "cell_type": "code",
      "execution_count": null,
      "metadata": {
        "id": "X7bgVPgPb2hp"
      },
      "outputs": [],
      "source": [
        "1)Для каждого кластера определяются наиболее важные жанры\n",
        "Например, если пользователь принадлежит кластеру, где \"Action\" и \"Comedy\" имеют высокие значения, то можно рекомендовать больше аниме этих жанров.\n",
        "\n",
        "2)Из всех аниме, которые чаще всего смотрят пользователи данного кластера, выбираются те, которые имеют самые высокие рейтинги.\n",
        "Это будет подход \"рекомендации популярных аниме среди схожих пользователей\"."
      ]
    }
  ],
  "metadata": {
    "colab": {
      "provenance": [],
      "toc_visible": true
    },
    "kernelspec": {
      "display_name": "Python 3 (ipykernel)",
      "language": "python",
      "name": "python3"
    },
    "language_info": {
      "codemirror_mode": {
        "name": "ipython",
        "version": 3
      },
      "file_extension": ".py",
      "mimetype": "text/x-python",
      "name": "python",
      "nbconvert_exporter": "python",
      "pygments_lexer": "ipython3",
      "version": "3.10.1"
    }
  },
  "nbformat": 4,
  "nbformat_minor": 0
}